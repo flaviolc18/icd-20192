{
 "cells": [
  {
   "cell_type": "markdown",
   "metadata": {
    "colab_type": "text",
    "id": "_or4TcGMBE0d"
   },
   "source": [
    "## Bootstrap"
   ]
  },
  {
   "cell_type": "code",
   "execution_count": 1,
   "metadata": {},
   "outputs": [],
   "source": [
    "import pandas as pd\n",
    "import numpy as np\n",
    "from matplotlib import pyplot as plt"
   ]
  },
  {
   "cell_type": "code",
   "execution_count": 2,
   "metadata": {},
   "outputs": [],
   "source": [
    "def despine(ax=None):\n",
    "    if ax is None:\n",
    "        ax = plt.gca()\n",
    "    # Hide the right and top spines\n",
    "    ax.spines['right'].set_visible(False)\n",
    "    ax.spines['top'].set_visible(False)\n",
    "\n",
    "    # Only show ticks on the left and bottom spines\n",
    "    ax.yaxis.set_ticks_position('left')\n",
    "    ax.xaxis.set_ticks_position('bottom')"
   ]
  },
  {
   "cell_type": "markdown",
   "metadata": {
    "colab_type": "text",
    "id": "YEhzQLjIBE0e"
   },
   "source": [
    "### Hipóteses\n",
    "\n",
    "Nossa hipótese pretende reconhecer se um astro na NBA tem uma relação de vir de uma determinada universidade. Com isso, faremos um boostrap para essas dados, a fim de observar se há um comportamento aleatório entre uma universidade e allstar\n",
    "\n",
    "\n",
    "**HO**: ser um grande astro no NBA é um processo aleatório e não depende de uma determinada universidade\n",
    "\n",
    "**H1**: Ser um astro no NBA depende de uma determinada universidade\n",
    "\n",
    "Para ver o comportamento disso, a gente faz uma bootstrap média no dataset para os jogos de astros nos anos 2000- até 2016\n",
    "\n"
   ]
  },
  {
   "cell_type": "markdown",
   "metadata": {
    "colab_type": "text",
    "id": "6IgKO2sMC_CG"
   },
   "source": [
    "Primeiramente, pegamos nossos dados dos draft dos anos de 1980 ate 2017"
   ]
  },
  {
   "cell_type": "code",
   "execution_count": 3,
   "metadata": {
    "colab": {
     "base_uri": "https://localhost:8080/",
     "height": 410
    },
    "colab_type": "code",
    "id": "ebnQHU74BE0h",
    "outputId": "a7042e6f-5122-4fed-f160-9e1883982c91"
   },
   "outputs": [
    {
     "data": {
      "text/html": [
       "<div>\n",
       "<style scoped>\n",
       "    .dataframe tbody tr th:only-of-type {\n",
       "        vertical-align: middle;\n",
       "    }\n",
       "\n",
       "    .dataframe tbody tr th {\n",
       "        vertical-align: top;\n",
       "    }\n",
       "\n",
       "    .dataframe thead th {\n",
       "        text-align: right;\n",
       "    }\n",
       "</style>\n",
       "<table border=\"1\" class=\"dataframe\">\n",
       "  <thead>\n",
       "    <tr style=\"text-align: right;\">\n",
       "      <th></th>\n",
       "      <th>year</th>\n",
       "      <th>round</th>\n",
       "      <th>pick</th>\n",
       "      <th>player</th>\n",
       "      <th>position</th>\n",
       "      <th>school</th>\n",
       "      <th>allstar_appearance</th>\n",
       "      <th>allstar_by_school</th>\n",
       "      <th>draft_picks</th>\n",
       "    </tr>\n",
       "  </thead>\n",
       "  <tbody>\n",
       "    <tr>\n",
       "      <td>0</td>\n",
       "      <td>1980</td>\n",
       "      <td>1</td>\n",
       "      <td>1.0</td>\n",
       "      <td>Carroll, Joe Barry</td>\n",
       "      <td>F/C</td>\n",
       "      <td>Purdue</td>\n",
       "      <td>1</td>\n",
       "      <td>1</td>\n",
       "      <td>1</td>\n",
       "    </tr>\n",
       "    <tr>\n",
       "      <td>1</td>\n",
       "      <td>1980</td>\n",
       "      <td>1</td>\n",
       "      <td>2.0</td>\n",
       "      <td>Griffith, Darrell</td>\n",
       "      <td>G</td>\n",
       "      <td>Louisville</td>\n",
       "      <td>0</td>\n",
       "      <td>0</td>\n",
       "      <td>1</td>\n",
       "    </tr>\n",
       "    <tr>\n",
       "      <td>2</td>\n",
       "      <td>1980</td>\n",
       "      <td>1</td>\n",
       "      <td>3.0</td>\n",
       "      <td>McHale, Kevin</td>\n",
       "      <td>F/C</td>\n",
       "      <td>Minnesota</td>\n",
       "      <td>7</td>\n",
       "      <td>1</td>\n",
       "      <td>1</td>\n",
       "    </tr>\n",
       "    <tr>\n",
       "      <td>3</td>\n",
       "      <td>1980</td>\n",
       "      <td>1</td>\n",
       "      <td>4.0</td>\n",
       "      <td>Ransey, Kelvin</td>\n",
       "      <td>G</td>\n",
       "      <td>Ohio State</td>\n",
       "      <td>0</td>\n",
       "      <td>0</td>\n",
       "      <td>1</td>\n",
       "    </tr>\n",
       "    <tr>\n",
       "      <td>4</td>\n",
       "      <td>1980</td>\n",
       "      <td>1</td>\n",
       "      <td>5.0</td>\n",
       "      <td>Ray, James</td>\n",
       "      <td>F</td>\n",
       "      <td>Jacksonville</td>\n",
       "      <td>0</td>\n",
       "      <td>0</td>\n",
       "      <td>1</td>\n",
       "    </tr>\n",
       "    <tr>\n",
       "      <td>...</td>\n",
       "      <td>...</td>\n",
       "      <td>...</td>\n",
       "      <td>...</td>\n",
       "      <td>...</td>\n",
       "      <td>...</td>\n",
       "      <td>...</td>\n",
       "      <td>...</td>\n",
       "      <td>...</td>\n",
       "      <td>...</td>\n",
       "    </tr>\n",
       "    <tr>\n",
       "      <td>2162</td>\n",
       "      <td>2018</td>\n",
       "      <td>2</td>\n",
       "      <td>56.0</td>\n",
       "      <td>Jacob Evans</td>\n",
       "      <td>SF</td>\n",
       "      <td>Cincinnati</td>\n",
       "      <td>0</td>\n",
       "      <td>0</td>\n",
       "      <td>1</td>\n",
       "    </tr>\n",
       "    <tr>\n",
       "      <td>2163</td>\n",
       "      <td>2018</td>\n",
       "      <td>2</td>\n",
       "      <td>57.0</td>\n",
       "      <td>Jevon Carter</td>\n",
       "      <td>PG</td>\n",
       "      <td>West Virginia</td>\n",
       "      <td>0</td>\n",
       "      <td>0</td>\n",
       "      <td>1</td>\n",
       "    </tr>\n",
       "    <tr>\n",
       "      <td>2164</td>\n",
       "      <td>2018</td>\n",
       "      <td>2</td>\n",
       "      <td>58.0</td>\n",
       "      <td>Borisa Simanic</td>\n",
       "      <td>SF/PF</td>\n",
       "      <td>Serbia</td>\n",
       "      <td>0</td>\n",
       "      <td>0</td>\n",
       "      <td>1</td>\n",
       "    </tr>\n",
       "    <tr>\n",
       "      <td>2165</td>\n",
       "      <td>2018</td>\n",
       "      <td>2</td>\n",
       "      <td>59.0</td>\n",
       "      <td>Bonzie Colson</td>\n",
       "      <td>SF/PF</td>\n",
       "      <td>Notre Dame</td>\n",
       "      <td>0</td>\n",
       "      <td>0</td>\n",
       "      <td>1</td>\n",
       "    </tr>\n",
       "    <tr>\n",
       "      <td>2166</td>\n",
       "      <td>2018</td>\n",
       "      <td>2</td>\n",
       "      <td>60.0</td>\n",
       "      <td>Kendall Stephens</td>\n",
       "      <td>SG/SF</td>\n",
       "      <td>Nevada</td>\n",
       "      <td>0</td>\n",
       "      <td>0</td>\n",
       "      <td>1</td>\n",
       "    </tr>\n",
       "  </tbody>\n",
       "</table>\n",
       "<p>2167 rows × 9 columns</p>\n",
       "</div>"
      ],
      "text/plain": [
       "      year  round  pick              player position         school  \\\n",
       "0     1980      1   1.0  Carroll, Joe Barry      F/C         Purdue   \n",
       "1     1980      1   2.0   Griffith, Darrell        G     Louisville   \n",
       "2     1980      1   3.0       McHale, Kevin      F/C      Minnesota   \n",
       "3     1980      1   4.0      Ransey, Kelvin        G     Ohio State   \n",
       "4     1980      1   5.0          Ray, James        F   Jacksonville   \n",
       "...    ...    ...   ...                 ...      ...            ...   \n",
       "2162  2018      2  56.0         Jacob Evans       SF     Cincinnati   \n",
       "2163  2018      2  57.0        Jevon Carter       PG  West Virginia   \n",
       "2164  2018      2  58.0      Borisa Simanic    SF/PF         Serbia   \n",
       "2165  2018      2  59.0       Bonzie Colson    SF/PF     Notre Dame   \n",
       "2166  2018      2  60.0    Kendall Stephens    SG/SF         Nevada   \n",
       "\n",
       "      allstar_appearance  allstar_by_school  draft_picks  \n",
       "0                      1                  1            1  \n",
       "1                      0                  0            1  \n",
       "2                      7                  1            1  \n",
       "3                      0                  0            1  \n",
       "4                      0                  0            1  \n",
       "...                  ...                ...          ...  \n",
       "2162                   0                  0            1  \n",
       "2163                   0                  0            1  \n",
       "2164                   0                  0            1  \n",
       "2165                   0                  0            1  \n",
       "2166                   0                  0            1  \n",
       "\n",
       "[2167 rows x 9 columns]"
      ]
     },
     "execution_count": 3,
     "metadata": {},
     "output_type": "execute_result"
    }
   ],
   "source": [
    "df = pd.read_csv(\"nba_draft.tsv\",sep='\\t')\n",
    "df"
   ]
  },
  {
   "cell_type": "markdown",
   "metadata": {
    "colab_type": "text",
    "id": "3wRGNDHbBE0m"
   },
   "source": [
    "Como nossa base principal tem dados de 2000 até 2016, faremos alguns drop de alguns anos nessa base"
   ]
  },
  {
   "cell_type": "code",
   "execution_count": 4,
   "metadata": {
    "colab": {},
    "colab_type": "code",
    "id": "riZdILejBE0o",
    "outputId": "1e0b42c3-7f57-435e-c17c-66052a55f9d3"
   },
   "outputs": [
    {
     "data": {
      "text/html": [
       "<div>\n",
       "<style scoped>\n",
       "    .dataframe tbody tr th:only-of-type {\n",
       "        vertical-align: middle;\n",
       "    }\n",
       "\n",
       "    .dataframe tbody tr th {\n",
       "        vertical-align: top;\n",
       "    }\n",
       "\n",
       "    .dataframe thead th {\n",
       "        text-align: right;\n",
       "    }\n",
       "</style>\n",
       "<table border=\"1\" class=\"dataframe\">\n",
       "  <thead>\n",
       "    <tr style=\"text-align: right;\">\n",
       "      <th></th>\n",
       "      <th>year</th>\n",
       "      <th>round</th>\n",
       "      <th>pick</th>\n",
       "      <th>player</th>\n",
       "      <th>position</th>\n",
       "      <th>school</th>\n",
       "      <th>allstar_appearance</th>\n",
       "      <th>allstar_by_school</th>\n",
       "      <th>draft_picks</th>\n",
       "    </tr>\n",
       "  </thead>\n",
       "  <tbody>\n",
       "    <tr>\n",
       "      <td>1035</td>\n",
       "      <td>2000</td>\n",
       "      <td>1</td>\n",
       "      <td>1.0</td>\n",
       "      <td>Martin, Kenyon</td>\n",
       "      <td>PF</td>\n",
       "      <td>Cincinnato (Sr.)</td>\n",
       "      <td>1</td>\n",
       "      <td>1</td>\n",
       "      <td>1</td>\n",
       "    </tr>\n",
       "    <tr>\n",
       "      <td>1036</td>\n",
       "      <td>2000</td>\n",
       "      <td>1</td>\n",
       "      <td>2.0</td>\n",
       "      <td>Swift, Stromile</td>\n",
       "      <td>PF/C</td>\n",
       "      <td>LSU</td>\n",
       "      <td>0</td>\n",
       "      <td>0</td>\n",
       "      <td>1</td>\n",
       "    </tr>\n",
       "    <tr>\n",
       "      <td>1037</td>\n",
       "      <td>2000</td>\n",
       "      <td>1</td>\n",
       "      <td>3.0</td>\n",
       "      <td>Miles, Darius</td>\n",
       "      <td>SF/PF</td>\n",
       "      <td>East St. Louis HS (Illinois)</td>\n",
       "      <td>0</td>\n",
       "      <td>0</td>\n",
       "      <td>1</td>\n",
       "    </tr>\n",
       "    <tr>\n",
       "      <td>1038</td>\n",
       "      <td>2000</td>\n",
       "      <td>1</td>\n",
       "      <td>4.0</td>\n",
       "      <td>Fizer, Marcus</td>\n",
       "      <td>PF/SF</td>\n",
       "      <td>Iowa State</td>\n",
       "      <td>0</td>\n",
       "      <td>0</td>\n",
       "      <td>1</td>\n",
       "    </tr>\n",
       "    <tr>\n",
       "      <td>1039</td>\n",
       "      <td>2000</td>\n",
       "      <td>1</td>\n",
       "      <td>5.0</td>\n",
       "      <td>Miller, Mike</td>\n",
       "      <td>SF/SG</td>\n",
       "      <td>Florida</td>\n",
       "      <td>0</td>\n",
       "      <td>0</td>\n",
       "      <td>1</td>\n",
       "    </tr>\n",
       "    <tr>\n",
       "      <td>...</td>\n",
       "      <td>...</td>\n",
       "      <td>...</td>\n",
       "      <td>...</td>\n",
       "      <td>...</td>\n",
       "      <td>...</td>\n",
       "      <td>...</td>\n",
       "      <td>...</td>\n",
       "      <td>...</td>\n",
       "      <td>...</td>\n",
       "    </tr>\n",
       "    <tr>\n",
       "      <td>2042</td>\n",
       "      <td>2016</td>\n",
       "      <td>2</td>\n",
       "      <td>56.0</td>\n",
       "      <td>Hamilton, Daniel</td>\n",
       "      <td>SG/SF</td>\n",
       "      <td>Connecticut</td>\n",
       "      <td>0</td>\n",
       "      <td>0</td>\n",
       "      <td>1</td>\n",
       "    </tr>\n",
       "    <tr>\n",
       "      <td>2043</td>\n",
       "      <td>2016</td>\n",
       "      <td>2</td>\n",
       "      <td>57.0</td>\n",
       "      <td>Wang Zhelin,</td>\n",
       "      <td>C</td>\n",
       "      <td>Fujian Sturgeons</td>\n",
       "      <td>0</td>\n",
       "      <td>0</td>\n",
       "      <td>1</td>\n",
       "    </tr>\n",
       "    <tr>\n",
       "      <td>2044</td>\n",
       "      <td>2016</td>\n",
       "      <td>2</td>\n",
       "      <td>58.0</td>\n",
       "      <td>Nader, Abdel</td>\n",
       "      <td>SF</td>\n",
       "      <td>Iowa State</td>\n",
       "      <td>0</td>\n",
       "      <td>0</td>\n",
       "      <td>1</td>\n",
       "    </tr>\n",
       "    <tr>\n",
       "      <td>2045</td>\n",
       "      <td>2016</td>\n",
       "      <td>2</td>\n",
       "      <td>59.0</td>\n",
       "      <td>Cousins, Isaiah</td>\n",
       "      <td>PG/SG</td>\n",
       "      <td>Oklahoma</td>\n",
       "      <td>0</td>\n",
       "      <td>0</td>\n",
       "      <td>1</td>\n",
       "    </tr>\n",
       "    <tr>\n",
       "      <td>2046</td>\n",
       "      <td>2016</td>\n",
       "      <td>2</td>\n",
       "      <td>60.0</td>\n",
       "      <td>Wallace, Tyrone</td>\n",
       "      <td>PG</td>\n",
       "      <td>California</td>\n",
       "      <td>0</td>\n",
       "      <td>0</td>\n",
       "      <td>1</td>\n",
       "    </tr>\n",
       "  </tbody>\n",
       "</table>\n",
       "<p>1012 rows × 9 columns</p>\n",
       "</div>"
      ],
      "text/plain": [
       "      year  round  pick            player position  \\\n",
       "1035  2000      1   1.0    Martin, Kenyon       PF   \n",
       "1036  2000      1   2.0   Swift, Stromile     PF/C   \n",
       "1037  2000      1   3.0     Miles, Darius    SF/PF   \n",
       "1038  2000      1   4.0     Fizer, Marcus    PF/SF   \n",
       "1039  2000      1   5.0      Miller, Mike    SF/SG   \n",
       "...    ...    ...   ...               ...      ...   \n",
       "2042  2016      2  56.0  Hamilton, Daniel    SG/SF   \n",
       "2043  2016      2  57.0      Wang Zhelin,        C   \n",
       "2044  2016      2  58.0      Nader, Abdel       SF   \n",
       "2045  2016      2  59.0   Cousins, Isaiah    PG/SG   \n",
       "2046  2016      2  60.0   Wallace, Tyrone       PG   \n",
       "\n",
       "                            school  allstar_appearance  allstar_by_school  \\\n",
       "1035              Cincinnato (Sr.)                   1                  1   \n",
       "1036                           LSU                   0                  0   \n",
       "1037  East St. Louis HS (Illinois)                   0                  0   \n",
       "1038                    Iowa State                   0                  0   \n",
       "1039                       Florida                   0                  0   \n",
       "...                            ...                 ...                ...   \n",
       "2042                   Connecticut                   0                  0   \n",
       "2043              Fujian Sturgeons                   0                  0   \n",
       "2044                    Iowa State                   0                  0   \n",
       "2045                      Oklahoma                   0                  0   \n",
       "2046                    California                   0                  0   \n",
       "\n",
       "      draft_picks  \n",
       "1035            1  \n",
       "1036            1  \n",
       "1037            1  \n",
       "1038            1  \n",
       "1039            1  \n",
       "...           ...  \n",
       "2042            1  \n",
       "2043            1  \n",
       "2044            1  \n",
       "2045            1  \n",
       "2046            1  \n",
       "\n",
       "[1012 rows x 9 columns]"
      ]
     },
     "execution_count": 4,
     "metadata": {},
     "output_type": "execute_result"
    }
   ],
   "source": [
    "df.drop(df.loc[df['year']<2000].index, inplace=True)\n",
    "df.drop(df.loc[df['year']>2016].index, inplace=True)\n",
    "df"
   ]
  },
  {
   "cell_type": "markdown",
   "metadata": {
    "colab_type": "text",
    "id": "T1jQakTZDhE1"
   },
   "source": [
    "Como o draft acontece em todo ano, diferente times draftam jogadores diferente, ai fazemos uma groupby de soma na coluna school para ver a quantidade total de jogadores que foram draftados pela aquela faculdade e tambem os astros da faculdade também."
   ]
  },
  {
   "cell_type": "code",
   "execution_count": 5,
   "metadata": {
    "colab": {},
    "colab_type": "code",
    "id": "Xe5SnkKJBE0t",
    "outputId": "a615b8cf-d891-4e42-b358-335aa34b599e"
   },
   "outputs": [
    {
     "data": {
      "text/html": [
       "<div>\n",
       "<style scoped>\n",
       "    .dataframe tbody tr th:only-of-type {\n",
       "        vertical-align: middle;\n",
       "    }\n",
       "\n",
       "    .dataframe tbody tr th {\n",
       "        vertical-align: top;\n",
       "    }\n",
       "\n",
       "    .dataframe thead th {\n",
       "        text-align: right;\n",
       "    }\n",
       "</style>\n",
       "<table border=\"1\" class=\"dataframe\">\n",
       "  <thead>\n",
       "    <tr style=\"text-align: right;\">\n",
       "      <th></th>\n",
       "      <th>year</th>\n",
       "      <th>round</th>\n",
       "      <th>pick</th>\n",
       "      <th>allstar_appearance</th>\n",
       "      <th>allstar_by_school</th>\n",
       "      <th>draft_picks</th>\n",
       "    </tr>\n",
       "    <tr>\n",
       "      <th>school</th>\n",
       "      <th></th>\n",
       "      <th></th>\n",
       "      <th></th>\n",
       "      <th></th>\n",
       "      <th></th>\n",
       "      <th></th>\n",
       "    </tr>\n",
       "  </thead>\n",
       "  <tbody>\n",
       "    <tr>\n",
       "      <td>AEK</td>\n",
       "      <td>4003</td>\n",
       "      <td>3</td>\n",
       "      <td>83.0</td>\n",
       "      <td>0</td>\n",
       "      <td>0</td>\n",
       "      <td>2</td>\n",
       "    </tr>\n",
       "    <tr>\n",
       "      <td>ASA BH Telecom</td>\n",
       "      <td>2006</td>\n",
       "      <td>2</td>\n",
       "      <td>56.0</td>\n",
       "      <td>0</td>\n",
       "      <td>0</td>\n",
       "      <td>1</td>\n",
       "    </tr>\n",
       "    <tr>\n",
       "      <td>ASC Denain-Voltaire</td>\n",
       "      <td>2016</td>\n",
       "      <td>2</td>\n",
       "      <td>44.0</td>\n",
       "      <td>0</td>\n",
       "      <td>0</td>\n",
       "      <td>1</td>\n",
       "    </tr>\n",
       "    <tr>\n",
       "      <td>ASVEL Basket</td>\n",
       "      <td>2013</td>\n",
       "      <td>1</td>\n",
       "      <td>28.0</td>\n",
       "      <td>0</td>\n",
       "      <td>0</td>\n",
       "      <td>1</td>\n",
       "    </tr>\n",
       "    <tr>\n",
       "      <td>Adecco Estudiantes</td>\n",
       "      <td>2006</td>\n",
       "      <td>1</td>\n",
       "      <td>27.0</td>\n",
       "      <td>0</td>\n",
       "      <td>0</td>\n",
       "      <td>1</td>\n",
       "    </tr>\n",
       "    <tr>\n",
       "      <td>...</td>\n",
       "      <td>...</td>\n",
       "      <td>...</td>\n",
       "      <td>...</td>\n",
       "      <td>...</td>\n",
       "      <td>...</td>\n",
       "      <td>...</td>\n",
       "    </tr>\n",
       "    <tr>\n",
       "      <td>Yonsei University</td>\n",
       "      <td>2004</td>\n",
       "      <td>2</td>\n",
       "      <td>46.0</td>\n",
       "      <td>0</td>\n",
       "      <td>0</td>\n",
       "      <td>1</td>\n",
       "    </tr>\n",
       "    <tr>\n",
       "      <td>Élan Chalon</td>\n",
       "      <td>2014</td>\n",
       "      <td>1</td>\n",
       "      <td>25.0</td>\n",
       "      <td>0</td>\n",
       "      <td>0</td>\n",
       "      <td>1</td>\n",
       "    </tr>\n",
       "    <tr>\n",
       "      <td>Ülkerspor</td>\n",
       "      <td>4008</td>\n",
       "      <td>4</td>\n",
       "      <td>78.0</td>\n",
       "      <td>0</td>\n",
       "      <td>0</td>\n",
       "      <td>2</td>\n",
       "    </tr>\n",
       "    <tr>\n",
       "      <td>Široki Brijeg</td>\n",
       "      <td>2007</td>\n",
       "      <td>2</td>\n",
       "      <td>39.0</td>\n",
       "      <td>0</td>\n",
       "      <td>0</td>\n",
       "      <td>1</td>\n",
       "    </tr>\n",
       "    <tr>\n",
       "      <td>Žalgiris Kaunas</td>\n",
       "      <td>4020</td>\n",
       "      <td>4</td>\n",
       "      <td>91.0</td>\n",
       "      <td>0</td>\n",
       "      <td>0</td>\n",
       "      <td>2</td>\n",
       "    </tr>\n",
       "  </tbody>\n",
       "</table>\n",
       "<p>348 rows × 6 columns</p>\n",
       "</div>"
      ],
      "text/plain": [
       "                     year  round  pick  allstar_appearance  allstar_by_school  \\\n",
       "school                                                                          \n",
       "AEK                  4003      3  83.0                   0                  0   \n",
       "ASA BH Telecom       2006      2  56.0                   0                  0   \n",
       "ASC Denain-Voltaire  2016      2  44.0                   0                  0   \n",
       "ASVEL Basket         2013      1  28.0                   0                  0   \n",
       "Adecco Estudiantes   2006      1  27.0                   0                  0   \n",
       "...                   ...    ...   ...                 ...                ...   \n",
       "Yonsei University    2004      2  46.0                   0                  0   \n",
       "Élan Chalon          2014      1  25.0                   0                  0   \n",
       "Ülkerspor            4008      4  78.0                   0                  0   \n",
       "Široki Brijeg        2007      2  39.0                   0                  0   \n",
       "Žalgiris Kaunas      4020      4  91.0                   0                  0   \n",
       "\n",
       "                     draft_picks  \n",
       "school                            \n",
       "AEK                            2  \n",
       "ASA BH Telecom                 1  \n",
       "ASC Denain-Voltaire            1  \n",
       "ASVEL Basket                   1  \n",
       "Adecco Estudiantes             1  \n",
       "...                          ...  \n",
       "Yonsei University              1  \n",
       "Élan Chalon                    1  \n",
       "Ülkerspor                      2  \n",
       "Široki Brijeg                  1  \n",
       "Žalgiris Kaunas                2  \n",
       "\n",
       "[348 rows x 6 columns]"
      ]
     },
     "execution_count": 5,
     "metadata": {},
     "output_type": "execute_result"
    }
   ],
   "source": [
    "df = df.groupby(['school']).sum()\n",
    "df"
   ]
  },
  {
   "cell_type": "markdown",
   "metadata": {
    "colab_type": "text",
    "id": "M53zW72UE2hJ"
   },
   "source": [
    "Faremos uma comparacão entre a quantidade de jogadores que foram draftado por cada universidade e tambem a quantidade de astros que vieram dessa universidade.\n",
    "\n",
    "Como essa  base  é secundaria, queremos ver se a quantidade de jogadores que foram draftados pela uma universidade pela uma universidade tem impacta a quantidade de ser um  allstar aumentar, como se uma determinada universiadade draftou uma quantidade maior de jogadores, isso impacta para a quantidade de astros aumentar.   "
   ]
  },
  {
   "cell_type": "code",
   "execution_count": 7,
   "metadata": {
    "colab": {},
    "colab_type": "code",
    "id": "Lkj1QvZHBE04"
   },
   "outputs": [],
   "source": [
    "def ic(df, pick):\n",
    "    data = df[pick]\n",
    "    mean = data.mean()\n",
    "    std = data.std(ddof=1)\n",
    "    se = std / np.sqrt(len(data))\n",
    "    \n",
    "    return (mean - 1.96 * se, mean + 1.96 * se)"
   ]
  },
  {
   "cell_type": "code",
   "execution_count": 8,
   "metadata": {
    "colab": {},
    "colab_type": "code",
    "id": "EmSIAscNBE09",
    "outputId": "db417dc6-267f-48c7-8fb5-ef71a940a02b"
   },
   "outputs": [
    {
     "data": {
      "text/plain": [
       "(0.16457249756095732, 0.300944743818353)"
      ]
     },
     "execution_count": 8,
     "metadata": {},
     "output_type": "execute_result"
    }
   ],
   "source": [
    "ic(df,'allstar_by_school')"
   ]
  },
  {
   "cell_type": "markdown",
   "metadata": {
    "colab_type": "text",
    "id": "BX9TTkfaBE1B"
   },
   "source": [
    "\n",
    "Faremos um bootstrap para a coluna allstars e as faculdades"
   ]
  },
  {
   "cell_type": "code",
   "execution_count": 9,
   "metadata": {
    "colab": {},
    "colab_type": "code",
    "id": "y0dgsk5IBE1D"
   },
   "outputs": [],
   "source": [
    "def bootstrap_mean(df,column, n):\n",
    "    values = np.zeros(n)\n",
    "    for i in range(n):\n",
    "        sample = df[column].sample(len(df), replace=True)\n",
    "        values[i] = sample.mean()\n",
    "    return values"
   ]
  },
  {
   "cell_type": "code",
   "execution_count": 10,
   "metadata": {
    "colab": {},
    "colab_type": "code",
    "id": "I1ahhVJ5BE1G",
    "outputId": "2c587da0-2b96-4918-b6fd-f911fbbed02b"
   },
   "outputs": [
    {
     "data": {
      "text/plain": [
       "array([0.23850575, 0.24137931, 0.23563218, ..., 0.22126437, 0.28735632,\n",
       "       0.18965517])"
      ]
     },
     "execution_count": 10,
     "metadata": {},
     "output_type": "execute_result"
    }
   ],
   "source": [
    "bootstrap_mean(df,'allstar_by_school', 10000)"
   ]
  },
  {
   "cell_type": "code",
   "execution_count": 11,
   "metadata": {
    "colab": {},
    "colab_type": "code",
    "id": "J0DREwf0BE1K"
   },
   "outputs": [],
   "source": [
    "mean = df['allstar_by_school'].mean()"
   ]
  },
  {
   "cell_type": "code",
   "execution_count": 12,
   "metadata": {
    "colab": {},
    "colab_type": "code",
    "id": "FgRQYgmlBE1N",
    "outputId": "374b3c99-c0c7-45aa-e711-1877c41d9b4a"
   },
   "outputs": [
    {
     "data": {
      "image/png": "[encoded data removed]",
      "text/plain": [
       "<Figure size 432x288 with 1 Axes>"
      ]
     },
     "metadata": {
      "needs_background": "light"
     },
     "output_type": "display_data"
    }
   ],
   "source": [
    "values = bootstrap_mean(df,'allstar_by_school', 10000)\n",
    "plt.hist(values, bins=20, density=True, edgecolor='k')\n",
    "plt.axvline(mean, color='red')\n",
    "plt.ylabel('allstar by each school')\n",
    "plt.xlabel('mean')\n",
    "plt.show()"
   ]
  },
  {
   "cell_type": "code",
   "execution_count": 13,
   "metadata": {
    "colab": {},
    "colab_type": "code",
    "id": "ZoPMYm1yBE1R",
    "outputId": "5d8f4ab5-7ed5-4bb9-fb03-04e3a95503a6"
   },
   "outputs": [
    {
     "data": {
      "image/png": "[encoded data removed]",
      "text/plain": [
       "<Figure size 432x288 with 1 Axes>"
      ]
     },
     "metadata": {
      "needs_background": "light"
     },
     "output_type": "display_data"
    }
   ],
   "source": [
    "values = bootstrap_mean(df,'allstar_by_school', 5000)\n",
    "plt.hist(values, bins=20, density=True, edgecolor='k')\n",
    "plt.axvline(mean, color='red')\n",
    "plt.ylabel('allstar by each school')\n",
    "plt.xlabel('mean')\n",
    "plt.show()"
   ]
  },
  {
   "cell_type": "markdown",
   "metadata": {
    "colab_type": "text",
    "id": "eaBEidj0OUZZ"
   },
   "source": [
    "Pelo gráfico  em cima, podemos ver que o comportamento entre ser um astro e vir de determinada universidade é aleatório. "
   ]
  }
 ],
 "metadata": {
  "colab": {
   "collapsed_sections": [],
   "name": "TESTE.ipynb",
   "provenance": [],
   "toc_visible": true
  },
  "kernelspec": {
   "display_name": "Python 3",
   "language": "python",
   "name": "python3"
  },
  "language_info": {
   "codemirror_mode": {
    "name": "ipython",
    "version": 3
   },
   "file_extension": ".py",
   "mimetype": "text/x-python",
   "name": "python",
   "nbconvert_exporter": "python",
   "pygments_lexer": "ipython3",
   "version": "3.7.4"
  }
 },
 "nbformat": 4,
 "nbformat_minor": 1
}

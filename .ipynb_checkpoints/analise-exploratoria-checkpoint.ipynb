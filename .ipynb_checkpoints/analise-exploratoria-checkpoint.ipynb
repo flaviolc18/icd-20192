{
 "cells": [
  {
   "cell_type": "markdown",
   "metadata": {},
   "source": [
    "# Análise Draft NBA"
   ]
  },
  {
   "cell_type": "markdown",
   "metadata": {},
   "source": [
    "### Membros do grupo:\n",
    "\n",
    "    - Flávio Lúcio Corrêa Júnior - 2018055014\n",
    "    - Henry Tamekloe - 2018500044\n",
    "    - Vinícius Julião Ramos - 2018054630"
   ]
  },
  {
   "cell_type": "markdown",
   "metadata": {},
   "source": [
    "## Introdução\n",
    "\n",
    "Como ja sabemos, o NBA é uma das ligas de basquete mais famosas nao só nos EUA mas no mundo inteiro. Por isso, existe muita preocupacao para entender melhor o comportamento de alguns aspectos do esporte em geral, por exemplo: atletas, times, universidades e etc. Com esta motivacao, pegamos uma base para entender o comportamento do \"NBA Draft Mock\" que acontece todos os anos. O \"NBA Draft Mock\" é um processo onde os atletas das universidades do mundo todo são selecionados pelos times do NBA baseando-se no desempenho dos atletas e das equipes na temporada anterior.\n",
    "\n",
    "O processo conta com algumas carácteristicas peculiares como, por exemplo, os times com desempenho ruim no último ano tem a vantagem para selecionar atletas mais cedo do que os times que tiveram bom desempenho. Além disso, os atletas que não foram draftados nao podem participar novamente no draft, restando apenas a opção de contratação para alguma equipe que o queira. \n",
    "\n",
    "Para começar nossa análise, pegamos duas bases do **NBA_DRAFT_1980_2017** e **NBA Player Data**. Basicamente, o conjunto de dados contém, nas linhas, informações de jogadores sob um período de duas a três décadas em que este foi parte de uma equipe. Além disso, temos informações de variáveis demográficas como idade, altura, peso, local de nascimento e detalhes de biograficos como o time jogado, ano de draft e round. E, por último, estatísticas básicas como partidas jogadas, número médio de pontos, rebotes, assistências e etc."
   ]
  },
  {
   "cell_type": "markdown",
   "metadata": {},
   "source": [
    "## Motivação\n",
    "\n",
    "Muitos jovens que vivem nos Estados Unidos desejam ingressar no mundo profissional dos esportes, para isso, estes jovens devem ingressar em um universidade ou em um colégio a fim de se candidatarem para o painel de seleção de jogadores (o draft). Isso faz com que ao longo da vida de estudante, uma pessoa tome diversas escolhas sobre a carreira esportiva, dado que o draft é o principal meio de ingresso nos esportes e há uma quantia significativa de jogadores que provém das mais variadas universidades e colégios (que de forma geral chamaremos de *college*) do país.\n",
    "\n",
    "Imagine-se como um estudante que desde criança tem aptidão para o basquete, é o melhor jogador entre o grupo de amigos e todos o elogiam por isso. É possível, que desde cedo deseje saber qual caminho trilhar para se tornar um dia um astro da NBA ou então até mesmo, deseje utiliza tal esporte como forma de realização de um sonho de ser famoso e reconhecido. Então, na análise de decisões sobre os rumos que um jogador deve trilhar, seguiremos neste trabalho uma observação detalhada sobre quais seriam os principais *colleges* que produzem jogadores para o país, sendo que dessa forma, e se há verdadeiramente uma boa escolha de instituição de ensino capaz impulsionar a carreira esportiva de um estudante.\n",
    "\n",
    "Para tal determinação, levantaremos algumas perguntas que podemos responder através da análise estatística dos dados. Tais perguntas motivarão hipóteses e produzirão uma linha de raciocínio baseadas em pesquisas e exploração do comportamento das bases de dados escolhidas para o trabalho. Podemos classificas as perguntas como as seguintes:\n",
    "\n",
    "1. Existem universidades que se destacam no draft?\n",
    "2. Qual a relação entre ser um AllStar e ser draftado a partir de determinada universidade?\n",
    "3. Há universidades que aumentam as chances de determinado jogador sejam draftados ou não?"
   ]
  },
  {
   "cell_type": "markdown",
   "metadata": {},
   "source": [
    "## Base de dados\n",
    "\n",
    "Como nossa base principal, **NBA Player Data**, não tem algumas colunas indicando se tal jogador foi um allstar, ou seja, ser classificado como um dos melhores da temporada, quantas vezes ele foi allstar e etc, para prever nossa segunda peguntar pegamos uma outra base que tem essa coluna para ajudar nos ajudar a fazer isso.\n",
    "\n",
    "As bases de dados usadas para o projeto podem ser encontradas nos seguintes links:\n",
    "\n",
    "    - **NBA Player Data**: https://www.kaggle.com/justinas/nba-players-data    \n",
    "    - **NBA_DRAFT_1980_2017**: https://github.com/henrany/introducao-a-ciencia-dos-dados/blob/master/project/NBA_Draft_1980_2017.tsv\n",
    "    \n",
    "\n",
    "(VOLTAR PARA FAZER)"
   ]
  },
  {
   "cell_type": "code",
   "execution_count": 1,
   "metadata": {},
   "outputs": [],
   "source": [
    "import numpy as np\n",
    "import pandas as pd\n",
    "import seaborn as sns\n",
    "from matplotlib import pyplot as plt"
   ]
  },
  {
   "cell_type": "code",
   "execution_count": 2,
   "metadata": {},
   "outputs": [],
   "source": [
    "df = pd.read_csv(\"all_seasons.csv\")"
   ]
  },
  {
   "cell_type": "markdown",
   "metadata": {},
   "source": [
    "## Tratamento do dados\n",
    "\n",
    "Os datasets possuem as informações necessárias para o estudo que se deseja realizar, entretanto, os dados não estão totalmente prontos para a análise e comparações. Alguns dados precisam ser convertidos em numéricos ao invés de strings além de necessitar de transformações que auxiliarão na plotagem de determinados graficos.\n",
    "\n",
    "Uma vez que há uma análise categórica a cerca dos dados, deve-se converter tal categoria com dados strings para dados numéricos a fim de possibilitar que o computador interprete essa informação na aplicação de um método de aprendizagem de máquina. Por fim, também vale ressaltar que devido ao grande tamanho da base de dados, que são dados ao longo do tempo, deseja-se analisar um comportamento condizente com a atualidade, por isso, também é preciso reduzir a quantidade de informações de acordo com um intervalo de tempo."
   ]
  },
  {
   "cell_type": "markdown",
   "metadata": {},
   "source": [
    "#### Normalizando o dado \"temporada\"\n",
    "Visto que na NBA as temporadas iniciam-se no final de determinado ano e encerram-se no ano seguinte, os dados de temporada, na base de dados são dados como uma string indicando o ano de início e de fim da temporada. Entretanto, por motivos de facilitar essa comparação, modificaremos tal atributo, de forma que identificaremos uma temporada apenas pelo seu ano de início, convertendo tal atributo para um dado numérico."
   ]
  },
  {
   "cell_type": "code",
   "execution_count": 3,
   "metadata": {},
   "outputs": [
    {
     "name": "stdout",
     "output_type": "stream",
     "text": [
      "-- Antes do tratamento\n",
      "0    1996-97\n",
      "1    1996-97\n",
      "2    1996-97\n",
      "3    1996-97\n",
      "4    1996-97\n",
      "Name: season, dtype: object\n",
      "\n",
      "-- Após o tratamento\n",
      "0    1996\n",
      "1    1996\n",
      "2    1996\n",
      "3    1996\n",
      "4    1996\n",
      "Name: season, dtype: int64\n"
     ]
    }
   ],
   "source": [
    "print('-- Antes do tratamento')\n",
    "print(df['season'].head())\n",
    "\n",
    "new = df['season'].str.split('-', n=1, expand=True)\n",
    "df['season'] = pd.to_numeric(new[0])\n",
    "print('\\n-- Após o tratamento')\n",
    "print(df['season'].head())"
   ]
  },
  {
   "cell_type": "markdown",
   "metadata": {},
   "source": [
    "#### Tratamento dos *stats* de cada jogador\n",
    "Nessa base de dados, há informações sobre as temporadas que os jogadores disputaram na NBA e também há informações sobre o ultimo ano do jogador no *college*, isso quer dizer que para a análise do draft, devemos obter apenas os dados dos jogadores referentes às suas participações nas categorias de base, excluindo dados da carreira profissional. Os scouts da primeira temporada de um jogador, envolvem a média retroativa do jogador no *college*, essa é uma estratégia utilizada pelas equipes para definir o progresso de cada jogador na liga, desde sua contratação.\n",
    "\n",
    "Cada vez mais, os times de esporte estão evoluindo sua maneira de avaliar o desempenho de jogadores, aplicando métodos de aprendizagem de máquina para especular a contribuição dos atletas a cada temporada. Para isso, é importante que hajam dados referentes às temporadas anteriores à profissionalização; fato que justifica a inserção dos dados do *college* na primeira temporada de cada jogador na liga principal."
   ]
  },
  {
   "cell_type": "code",
   "execution_count": 4,
   "metadata": {},
   "outputs": [
    {
     "name": "stdout",
     "output_type": "stream",
     "text": [
      "(9561, 22)\n"
     ]
    },
    {
     "data": {
      "text/html": [
       "<div>\n",
       "<style scoped>\n",
       "    .dataframe tbody tr th:only-of-type {\n",
       "        vertical-align: middle;\n",
       "    }\n",
       "\n",
       "    .dataframe tbody tr th {\n",
       "        vertical-align: top;\n",
       "    }\n",
       "\n",
       "    .dataframe thead th {\n",
       "        text-align: right;\n",
       "    }\n",
       "</style>\n",
       "<table border=\"1\" class=\"dataframe\">\n",
       "  <thead>\n",
       "    <tr style=\"text-align: right;\">\n",
       "      <th></th>\n",
       "      <th>Unnamed: 0</th>\n",
       "      <th>player_name</th>\n",
       "      <th>team_abbreviation</th>\n",
       "      <th>age</th>\n",
       "      <th>player_height</th>\n",
       "      <th>player_weight</th>\n",
       "      <th>college</th>\n",
       "      <th>country</th>\n",
       "      <th>draft_year</th>\n",
       "      <th>draft_round</th>\n",
       "      <th>...</th>\n",
       "      <th>pts</th>\n",
       "      <th>reb</th>\n",
       "      <th>ast</th>\n",
       "      <th>net_rating</th>\n",
       "      <th>oreb_pct</th>\n",
       "      <th>dreb_pct</th>\n",
       "      <th>usg_pct</th>\n",
       "      <th>ts_pct</th>\n",
       "      <th>ast_pct</th>\n",
       "      <th>season</th>\n",
       "    </tr>\n",
       "  </thead>\n",
       "  <tbody>\n",
       "    <tr>\n",
       "      <td>1863</td>\n",
       "      <td>1863</td>\n",
       "      <td>A.J. Guyton</td>\n",
       "      <td>CHI</td>\n",
       "      <td>23.0</td>\n",
       "      <td>185.42</td>\n",
       "      <td>81.64656</td>\n",
       "      <td>Indiana</td>\n",
       "      <td>USA</td>\n",
       "      <td>2000</td>\n",
       "      <td>2</td>\n",
       "      <td>...</td>\n",
       "      <td>6.0</td>\n",
       "      <td>1.1</td>\n",
       "      <td>1.9</td>\n",
       "      <td>-12.4</td>\n",
       "      <td>0.018</td>\n",
       "      <td>0.053</td>\n",
       "      <td>0.169</td>\n",
       "      <td>0.495</td>\n",
       "      <td>0.198</td>\n",
       "      <td>2000</td>\n",
       "    </tr>\n",
       "    <tr>\n",
       "      <td>2425</td>\n",
       "      <td>2425</td>\n",
       "      <td>A.J. Guyton</td>\n",
       "      <td>CHI</td>\n",
       "      <td>24.0</td>\n",
       "      <td>185.42</td>\n",
       "      <td>81.64656</td>\n",
       "      <td>Indiana</td>\n",
       "      <td>USA</td>\n",
       "      <td>2000</td>\n",
       "      <td>2</td>\n",
       "      <td>...</td>\n",
       "      <td>5.4</td>\n",
       "      <td>1.0</td>\n",
       "      <td>1.8</td>\n",
       "      <td>-3.8</td>\n",
       "      <td>0.022</td>\n",
       "      <td>0.067</td>\n",
       "      <td>0.221</td>\n",
       "      <td>0.477</td>\n",
       "      <td>0.248</td>\n",
       "      <td>2001</td>\n",
       "    </tr>\n",
       "    <tr>\n",
       "      <td>2941</td>\n",
       "      <td>2941</td>\n",
       "      <td>A.J. Guyton</td>\n",
       "      <td>GSW</td>\n",
       "      <td>25.0</td>\n",
       "      <td>185.42</td>\n",
       "      <td>81.64656</td>\n",
       "      <td>Indiana</td>\n",
       "      <td>USA</td>\n",
       "      <td>2000</td>\n",
       "      <td>2</td>\n",
       "      <td>...</td>\n",
       "      <td>0.0</td>\n",
       "      <td>0.0</td>\n",
       "      <td>1.0</td>\n",
       "      <td>-3.9</td>\n",
       "      <td>0.000</td>\n",
       "      <td>0.000</td>\n",
       "      <td>0.282</td>\n",
       "      <td>0.000</td>\n",
       "      <td>0.400</td>\n",
       "      <td>2002</td>\n",
       "    </tr>\n",
       "  </tbody>\n",
       "</table>\n",
       "<p>3 rows × 22 columns</p>\n",
       "</div>"
      ],
      "text/plain": [
       "      Unnamed: 0  player_name team_abbreviation   age  player_height  \\\n",
       "1863        1863  A.J. Guyton               CHI  23.0         185.42   \n",
       "2425        2425  A.J. Guyton               CHI  24.0         185.42   \n",
       "2941        2941  A.J. Guyton               GSW  25.0         185.42   \n",
       "\n",
       "      player_weight  college country draft_year draft_round  ...  pts  reb  \\\n",
       "1863       81.64656  Indiana     USA       2000           2  ...  6.0  1.1   \n",
       "2425       81.64656  Indiana     USA       2000           2  ...  5.4  1.0   \n",
       "2941       81.64656  Indiana     USA       2000           2  ...  0.0  0.0   \n",
       "\n",
       "      ast  net_rating  oreb_pct  dreb_pct  usg_pct  ts_pct  ast_pct  season  \n",
       "1863  1.9       -12.4     0.018     0.053    0.169   0.495    0.198    2000  \n",
       "2425  1.8        -3.8     0.022     0.067    0.221   0.477    0.248    2001  \n",
       "2941  1.0        -3.9     0.000     0.000    0.282   0.000    0.400    2002  \n",
       "\n",
       "[3 rows x 22 columns]"
      ]
     },
     "execution_count": 4,
     "metadata": {},
     "output_type": "execute_result"
    }
   ],
   "source": [
    "# observando os dados de um jogador qualquer antes da transformação\n",
    "print(df.shape)\n",
    "df[df['player_name'] == 'A.J. Guyton']"
   ]
  },
  {
   "cell_type": "markdown",
   "metadata": {},
   "source": [
    "A inserção de dados do *college* para cada jogador em sua primeira temporada, demonstra além de tudo se o atleta, apesar de obter um alto desempenho nas categorias de base, conseguiu manter o alto nível esportivo. No exemplo demonstrado aqui, é possivel observar uma piora a cada tempoda, apesar de *scouts* expressivos em sua primeira temporada."
   ]
  },
  {
   "cell_type": "code",
   "execution_count": 6,
   "metadata": {},
   "outputs": [
    {
     "name": "stdout",
     "output_type": "stream",
     "text": [
      "(1892, 22)\n"
     ]
    },
    {
     "data": {
      "text/html": [
       "<div>\n",
       "<style scoped>\n",
       "    .dataframe tbody tr th:only-of-type {\n",
       "        vertical-align: middle;\n",
       "    }\n",
       "\n",
       "    .dataframe tbody tr th {\n",
       "        vertical-align: top;\n",
       "    }\n",
       "\n",
       "    .dataframe thead th {\n",
       "        text-align: right;\n",
       "    }\n",
       "</style>\n",
       "<table border=\"1\" class=\"dataframe\">\n",
       "  <thead>\n",
       "    <tr style=\"text-align: right;\">\n",
       "      <th></th>\n",
       "      <th>Unnamed: 0</th>\n",
       "      <th>player_name</th>\n",
       "      <th>team_abbreviation</th>\n",
       "      <th>age</th>\n",
       "      <th>player_height</th>\n",
       "      <th>player_weight</th>\n",
       "      <th>college</th>\n",
       "      <th>country</th>\n",
       "      <th>draft_year</th>\n",
       "      <th>draft_round</th>\n",
       "      <th>...</th>\n",
       "      <th>pts</th>\n",
       "      <th>reb</th>\n",
       "      <th>ast</th>\n",
       "      <th>net_rating</th>\n",
       "      <th>oreb_pct</th>\n",
       "      <th>dreb_pct</th>\n",
       "      <th>usg_pct</th>\n",
       "      <th>ts_pct</th>\n",
       "      <th>ast_pct</th>\n",
       "      <th>season</th>\n",
       "    </tr>\n",
       "  </thead>\n",
       "  <tbody>\n",
       "    <tr>\n",
       "      <td>1863</td>\n",
       "      <td>1863</td>\n",
       "      <td>A.J. Guyton</td>\n",
       "      <td>CHI</td>\n",
       "      <td>23.0</td>\n",
       "      <td>185.42</td>\n",
       "      <td>81.64656</td>\n",
       "      <td>Indiana</td>\n",
       "      <td>USA</td>\n",
       "      <td>2000</td>\n",
       "      <td>2</td>\n",
       "      <td>...</td>\n",
       "      <td>6.0</td>\n",
       "      <td>1.1</td>\n",
       "      <td>1.9</td>\n",
       "      <td>-12.4</td>\n",
       "      <td>0.018</td>\n",
       "      <td>0.053</td>\n",
       "      <td>0.169</td>\n",
       "      <td>0.495</td>\n",
       "      <td>0.198</td>\n",
       "      <td>2000</td>\n",
       "    </tr>\n",
       "  </tbody>\n",
       "</table>\n",
       "<p>1 rows × 22 columns</p>\n",
       "</div>"
      ],
      "text/plain": [
       "      Unnamed: 0  player_name team_abbreviation   age  player_height  \\\n",
       "1863        1863  A.J. Guyton               CHI  23.0         185.42   \n",
       "\n",
       "      player_weight  college country draft_year draft_round  ...  pts  reb  \\\n",
       "1863       81.64656  Indiana     USA       2000           2  ...  6.0  1.1   \n",
       "\n",
       "      ast  net_rating  oreb_pct  dreb_pct  usg_pct  ts_pct  ast_pct  season  \n",
       "1863  1.9       -12.4     0.018     0.053    0.169   0.495    0.198    2000  \n",
       "\n",
       "[1 rows x 22 columns]"
      ]
     },
     "execution_count": 6,
     "metadata": {},
     "output_type": "execute_result"
    }
   ],
   "source": [
    "# removendo dados com nomes iguais, deixando apenas os com as menores seasons / ages\n",
    "# obtendo a primeira temporada de cada jogador\n",
    "df = df.loc[df.groupby(\"player_name\")[\"age\"].idxmin()]\n",
    "\n",
    "print(df.shape)\n",
    "df[df['player_name'] == 'A.J. Guyton']"
   ]
  },
  {
   "cell_type": "markdown",
   "metadata": {},
   "source": [
    "#### Categorização via One-Hot\n",
    "É possível que seja necessário utilizar métodos de classificação para tentar predizer uma boa universidade ou alguma informaçãao a cerca das universidades. Então, por esse motivo, é necessário converter o dado \"college\", que trata-se de uma coluna do tipo *string*, em diversas colunas do tipo inteiros (ou até mesmo booleano) identificando se cada jogador pertence ou não a cada um dos *colleges* através da marcação de 0 e 1. Isso fará com que haja um acrescimo de colunas, equivalente à quantidade de *colleges* identificados."
   ]
  },
  {
   "cell_type": "code",
   "execution_count": 8,
   "metadata": {},
   "outputs": [],
   "source": [
    "# incluindo colunas para cada universidade onde para um jogador X a coluna correspondente\n",
    "# a universidade Y tem o valor 1 se X percence a Y e 0 caso contrário\n",
    "colleges = df['college'].unique()\n",
    "colleges_map = {}\n",
    "for college in colleges:\n",
    "    college_column_name = college.lower().replace(\" \", \"_\")\n",
    "    colleges_map[college] = college_column_name\n",
    "    df[college_column_name] = df['college'].apply(lambda c: 1 if c==college else 0)\n",
    "\n",
    "\n",
    "# Validando se o dado está correto para o jogador indicado\n",
    "assert df[df['player_name'] == 'A.J. Guyton']['indiana'].values[0] == 1\n",
    "\n",
    "# A soma de todos os valore nas colunas que identificam colleges deve ser igual a 1\n",
    "s = 0\n",
    "for college in colleges:\n",
    "    college_column_name = college.lower().replace(\" \", \"_\")\n",
    "    s+=df[df['player_name'] == 'A.J. Guyton'][college_column_name]\n",
    "\n",
    "assert s.values[0] == 1"
   ]
  },
  {
   "cell_type": "markdown",
   "metadata": {},
   "source": [
    "#### Mapeando os jogadores não draftados dos jogadores draftados\n",
    "Nessa base de dados, há uma coluna de nome \"draft_yer\" que identifica quando um jogador fora concovado por uma equipe durante o draft, além de identificar se ele foi draftado ou não através de um coluna com o dado 'Undrafted' que identifica os jogadores que não foram convocados para a temporada da NBA via draft, mas sim por um contrato pós sessão de escolhas. Nisso, identificaremos que um jogador passou pela tentativa de draft no mesmo ano de sua primeira temporada, e criaremos uma coluna com um dado binário (0/1) identificando a partir da coluna \"draft_year\" se uma coluna possui o dado 'Undrafted' ou não."
   ]
  },
  {
   "cell_type": "code",
   "execution_count": 9,
   "metadata": {},
   "outputs": [
    {
     "name": "stdout",
     "output_type": "stream",
     "text": [
      "      drafted draft_year\n",
      "8902        0  Undrafted\n",
      "4331        0  Undrafted\n",
      "297         0  Undrafted\n",
      "2938        0  Undrafted\n",
      "7671        0  Undrafted\n",
      "\n",
      "       drafted draft_year\n",
      "299         1       1985\n",
      "1426        1       1999\n",
      "1863        1       2000\n",
      "9396        1       2016\n",
      "5923        1       2009\n"
     ]
    }
   ],
   "source": [
    "# criando a nova coluna para jogadores selecionados no draft ou não\n",
    "df['drafted'] = df['draft_year'].apply(lambda c: 1 if c!='Undrafted' else 0)\n",
    "print(df.loc[df['draft_year'] == 'Undrafted',['drafted', 'draft_year']].head())\n",
    "\n",
    "print('\\n', df.loc[df['draft_year'] != 'Undrafted',['drafted', 'draft_year']].head())"
   ]
  },
  {
   "cell_type": "markdown",
   "metadata": {},
   "source": [
    "## Análise Exploratória\n",
    "Durante a análise exploratória dos dados, será possível observar o comportamento da base de dados para alguns casos específicos e determinar certas afirmações que podem ser úteis para alguns estudos. Também é possível que em determinadas observações, identifique-se dados que podem ser acrescidos ou decrescidos da base pra auxiliar o estudo. Então, nessa sessão, também cabem certos tratamentos de dados para adaptação dos dados ao modelo de aprendizagem, o qual pretende-se gerar no futuro."
   ]
  },
  {
   "cell_type": "markdown",
   "metadata": {},
   "source": [
    "#### Identificando o comportamento por quartis da base de dados\n",
    "Cada *college* é responsável por enviar certa quantia de alunos para a NBA, sendo assim, deseja-se saber o comportamento por quartis das instituições de ensino. Para saber se é possível avaliar a quantidade de jogadores em média que cada *college* prepara para a carreira esportiva, além de identificar se há *outliers*. A identificação de *outliers* é importante pois pode demonstrar uma possível tendência de algumas escolas em se destacarem no processo de seleção de jogadores, uma vez que é esse o possível estudo que deseja-se realizar dado como motivação deste trabalho.\n",
    "\n",
    "Para tal tarefa, plotaremos um box plot a fim de identificar se há poucas universidades que se destacam em presença na liga nacional de basquete. Isso será importante na composição de futuras hipóteses."
   ]
  },
  {
   "cell_type": "code",
   "execution_count": 12,
   "metadata": {},
   "outputs": [
    {
     "data": {
      "image/png": "[encoded data removed]",
      "text/plain": [
       "<Figure size 432x288 with 1 Axes>"
      ]
     },
     "metadata": {
      "needs_background": "light"
     },
     "output_type": "display_data"
    }
   ],
   "source": [
    "# plotar um box plot identificando a quantidade de jogadores draftados por college\n",
    "plt.boxplot(df.groupby('college')['drafted'].sum())\n",
    "plt.show()"
   ]
  },
  {
   "cell_type": "markdown",
   "metadata": {},
   "source": [
    "De antemão é possível identificar que há um outlier significativo nos dados, e isso pode sugerir que há uma tendência. Então um segundo estudo pode demonstrar se é um caso isolado, um comportamento anômalo ou um dado indesejado. Ao ordenar os dados que foram plotados, identificaremos qual o college que exporta tal quantia de jogadores."
   ]
  },
  {
   "cell_type": "code",
   "execution_count": 13,
   "metadata": {},
   "outputs": [
    {
     "name": "stdout",
     "output_type": "stream",
     "text": [
      "college\n",
      "None                     198\n",
      "Kentucky                  44\n",
      "North Carolina            36\n",
      "UCLA                      36\n",
      "Duke                      36\n",
      "                        ... \n",
      "Pfeiffer                   0\n",
      "Florida International      0\n",
      "Fordham                    0\n",
      "George Mason               0\n",
      "Montevallo                 0\n",
      "Name: drafted, Length: 287, dtype: int64\n"
     ]
    }
   ],
   "source": [
    "print(df.groupby('college')['drafted'].sum().sort_values()[::-1])"
   ]
  },
  {
   "cell_type": "markdown",
   "metadata": {},
   "source": [
    "Então temos identificado um dado indesejado, em que 198 dos jogadores da base da NBA não passaram por uma instituição de ensino cadastrada na liga nacional, ou não se candidataram ao draft em momento algum. Logo, cabe um novo tratamento dos dados para excluir a coluna criada pela técnica One-Hot e também as linhas referentes a estes mesmos jogadores."
   ]
  },
  {
   "cell_type": "code",
   "execution_count": 14,
   "metadata": {},
   "outputs": [],
   "source": [
    "df = df[df['college'] != 'None']\n",
    "df = df.drop(columns=[colleges_map['None']])\n",
    "del colleges_map['None']"
   ]
  },
  {
   "cell_type": "markdown",
   "metadata": {},
   "source": [
    "Assim, pode-se observar através de uma simples listagem, todas as universidades que estão acima do 3º quatil através da identificação do valor que mapeia o 3º quartil e então demonstrar que algumas universidades estão melhor colocadas que outras, havendo uma certa discrepância entre algumas instituições."
   ]
  },
  {
   "cell_type": "code",
   "execution_count": 16,
   "metadata": {},
   "outputs": [
    {
     "data": {
      "image/png": "[encoded data removed]",
      "text/plain": [
       "<Figure size 432x288 with 1 Axes>"
      ]
     },
     "metadata": {
      "needs_background": "light"
     },
     "output_type": "display_data"
    }
   ],
   "source": [
    "colleges_by_players = df.groupby('college')['drafted'].sum()\n",
    "plt.boxplot(colleges_by_players)\n",
    "plt.show()"
   ]
  },
  {
   "cell_type": "markdown",
   "metadata": {},
   "source": [
    "As instituições que se destacam (instituições que \"*outliers*\") são classificadas por fornecer mais de 10 jogadores, como observado acima. Então, estas, podem ser identificadas por um simples grafico de barras, a fim de fixar quais as melhores instituições segundo os dados e, ao final, observar se há fator que explique tal comportamento ou é um acaso."
   ]
  },
  {
   "cell_type": "code",
   "execution_count": 19,
   "metadata": {},
   "outputs": [
    {
     "data": {
      "image/png": "[encoded data removed]",
      "text/plain": [
       "<Figure size 432x288 with 1 Axes>"
      ]
     },
     "metadata": {
      "needs_background": "light"
     },
     "output_type": "display_data"
    },
    {
     "name": "stdout",
     "output_type": "stream",
     "text": [
      "college\n",
      "Kentucky                44\n",
      "Duke                    36\n",
      "UCLA                    36\n",
      "North Carolina          36\n",
      "Kansas                  34\n",
      "Arizona                 34\n",
      "Syracuse                28\n",
      "Georgia Tech            24\n",
      "Connecticut             23\n",
      "Michigan                22\n",
      "Maryland                19\n",
      "Michigan State          19\n",
      "Florida                 19\n",
      "Texas                   17\n",
      "Louisville              17\n",
      "Memphis                 16\n",
      "Washington              16\n",
      "Georgetown              16\n",
      "Stanford                15\n",
      "Louisiana State         15\n",
      "Florida State           15\n",
      "Indiana                 15\n",
      "Iowa State              14\n",
      "Illinois                13\n",
      "North Carolina State    13\n",
      "California              13\n",
      "Ohio State              13\n",
      "St. John's (NY)         13\n",
      "Providence              12\n",
      "Notre Dame              12\n",
      "Alabama                 12\n",
      "Villanova               12\n",
      "Marquette               12\n",
      "Nevada-Las Vegas        12\n",
      "Oklahoma                11\n",
      "Arkansas                11\n",
      "Wake Forest             11\n",
      "Cincinnati              11\n",
      "Clemson                 10\n",
      "Name: drafted, dtype: int64\n"
     ]
    }
   ],
   "source": [
    "colleges_by_players.sort_values()[:-40:-1].plot.bar()\n",
    "plt.show()\n",
    "\n",
    "print(colleges_by_players.sort_values()[:-40:-1])"
   ]
  },
  {
   "cell_type": "markdown",
   "metadata": {},
   "source": [
    "Uma possível abordagem para o futuro jogador da NBA seria identificar que nem sempre é tão necessário estar em um *college* para se tornar um grande jogador. Uma vez que a própria base de dados nos dá 1820 jogadores diferentes dos quais 198 não se candidataram ao draft. Sendo que foram contratados em janelas de transferências entre times fora da liga principal de basquete. Então, como observado nos dados, mais de 10% dos jogaores entre 2000 e 2016 (198$\\div$1820) entraram na liga de uma maneira diferente do draft."
   ]
  },
  {
   "cell_type": "markdown",
   "metadata": {},
   "source": [
    "#### Analisando os *stats* dos jogadores\n",
    "\n",
    "Para que um jogador seja convocado por uma equipe da NBA, este deve ser um bom jogador, ou seja: deve ter boas pontuações e notas nas principais caracteírsticas analisadas. Para isso, iniciaremos uma observação do comportamento médio para cada um dos *stats*/*scouts*, assim pode-se ainda especular a cerca de um jogador se tornar ou não um grande astro do basquete (*Allstar*), uma vez que os astros das temporadas são analisados de acordo com estes mesmos parâmetros. Dessa forma, o aluno que deseja se tornar um grande astro do basquete, pode observar qual a pontuação mínima em cada *scout* deve alcançar e manter para que realize o desejo de entrar na principal liga de basquete do mundo.\n",
    "\n",
    "Dois gráficos serão mostrados, levando em conta apenas os jogadores que se canditaram ao draft, demonstrando a média do comportamento dos jogadores convocados e dos jogadores não convocados."
   ]
  },
  {
   "cell_type": "code",
   "execution_count": 20,
   "metadata": {},
   "outputs": [
    {
     "data": {
      "image/png": "[encoded data removed]",
      "text/plain": [
       "<Figure size 432x288 with 1 Axes>"
      ]
     },
     "metadata": {
      "needs_background": "light"
     },
     "output_type": "display_data"
    },
    {
     "data": {
      "image/png": "[encoded data removed]",
      "text/plain": [
       "<Figure size 432x288 with 1 Axes>"
      ]
     },
     "metadata": {
      "needs_background": "light"
     },
     "output_type": "display_data"
    },
    {
     "data": {
      "image/png": "[encoded data removed]",
      "text/plain": [
       "<Figure size 432x288 with 1 Axes>"
      ]
     },
     "metadata": {
      "needs_background": "light"
     },
     "output_type": "display_data"
    },
    {
     "data": {
      "image/png": "[encoded data removed]",
      "text/plain": [
       "<Figure size 432x288 with 1 Axes>"
      ]
     },
     "metadata": {
      "needs_background": "light"
     },
     "output_type": "display_data"
    },
    {
     "data": {
      "image/png": "[encoded data removed]",
      "text/plain": [
       "<Figure size 432x288 with 1 Axes>"
      ]
     },
     "metadata": {
      "needs_background": "light"
     },
     "output_type": "display_data"
    },
    {
     "data": {
      "image/png": "[encoded data removed]",
      "text/plain": [
       "<Figure size 432x288 with 1 Axes>"
      ]
     },
     "metadata": {
      "needs_background": "light"
     },
     "output_type": "display_data"
    },
    {
     "data": {
      "image/png": "[encoded data removed]",
      "text/plain": [
       "<Figure size 432x288 with 1 Axes>"
      ]
     },
     "metadata": {
      "needs_background": "light"
     },
     "output_type": "display_data"
    }
   ],
   "source": [
    "draft_status = ['Drafted', 'Non Drafted']\n",
    "scout_attr = ['player_height', 'player_weight', 'gp', 'pts', 'reb', 'ast', 'usg_pct']\n",
    "scout_names = ['Altura do Jogador (cm)', 'Peso do jogador (kg)', 'Média de Jogos jogados', 'Média de pontos por partida','Rebotes acertados', 'Assistências', \n",
    "               'Percentual médio de utilização do jogador por jogo']\n",
    "\n",
    "data_diff = pd.DataFrame(columns=draft_status, index=scout_names)\n",
    "\n",
    "for i in range(len(scout_attr)):\n",
    "    non_drafted_data = df.loc[df['drafted']!=1, scout_attr[i]].mean(axis=0)\n",
    "    drafted_data = df.loc[df['drafted']==1, scout_attr[i]].mean(axis=0)\n",
    "    data_diff.iloc[i] = [drafted_data, non_drafted_data]\n",
    "    plt.bar(draft_status, [drafted_data, non_drafted_data], color=['blue', 'red'])\n",
    "    plt.ylabel(scout_names[i])\n",
    "    plt.show()\n"
   ]
  },
  {
   "cell_type": "markdown",
   "metadata": {},
   "source": [
    "\n",
    "Baseando-se nos gráficos, é possível observar que há uma relação entre os *scouts* dos jogadores e se eles foram ou não draftados. Podendo-se entender que, no caso do atributo *college* ser uma diferencial na escolha do atleta este não é um atributo suficiente para definir se o aluno será convocado para a NBA. Sendo assim, há diversas variáveis que devem ser analisadas a fim de classificar se determinado jogador é um bom atleta. Um fato que já é conhecido, o atributo 'usg_pct'(percentual médio de utilização do jogador na partida), é um determinante de qualidade, uma vez que é fácil de se imaginar que os bons jogadores sejam utilizados por mais tempo, ou seja, os atletas com valores altos de 'usg_pct', provavelmente são mais bem notados do que os demais.\n",
    "\n",
    "Mesmo que os gráficos demonstrem que a diferença é sutil entre os draftados e não draftados, quanto ao atributo 'usg_pct', a diferença é reconhecida, entretando devendo-se considerar os demais atributos, uma vez que um atleta deve possuir alguma outra qualidade prática (quantidade de pontos, quantidade de assistências, rebotes acertados e etc). Nesse mesmo raciocínio, pode-se compor hipóteses sobre a o comportamento dos jogadores aprovados e os demais atributos, observando se os dados são de certa forma aleatórios entre si, ou seja, se não há uma correlação entre estes.\n",
    "\n",
    "Observe na lista a seguir que na média, os jogadores draftados possuem um desempenho maior que os não draftados, sendo que em alguns casos é possível reconhecer uma diferença muito grande, que possivelmente são os outros fatores de grande peso na definição da aprovação ou reprovação de um jogador no draft. Futuramente, esses fatores serão explorados como forma de previsão de alguns dados."
   ]
  },
  {
   "cell_type": "code",
   "execution_count": 22,
   "metadata": {},
   "outputs": [
    {
     "data": {
      "text/html": [
       "<div>\n",
       "<style scoped>\n",
       "    .dataframe tbody tr th:only-of-type {\n",
       "        vertical-align: middle;\n",
       "    }\n",
       "\n",
       "    .dataframe tbody tr th {\n",
       "        vertical-align: top;\n",
       "    }\n",
       "\n",
       "    .dataframe thead th {\n",
       "        text-align: right;\n",
       "    }\n",
       "</style>\n",
       "<table border=\"1\" class=\"dataframe\">\n",
       "  <thead>\n",
       "    <tr style=\"text-align: right;\">\n",
       "      <th></th>\n",
       "      <th>Drafted</th>\n",
       "      <th>Non Drafted</th>\n",
       "    </tr>\n",
       "  </thead>\n",
       "  <tbody>\n",
       "    <tr>\n",
       "      <td>Altura do Jogador (cm)</td>\n",
       "      <td>200.666</td>\n",
       "      <td>197.84</td>\n",
       "    </tr>\n",
       "    <tr>\n",
       "      <td>Peso do jogador (kg)</td>\n",
       "      <td>100.104</td>\n",
       "      <td>96.9128</td>\n",
       "    </tr>\n",
       "    <tr>\n",
       "      <td>Média de Jogos jogados</td>\n",
       "      <td>48.7729</td>\n",
       "      <td>26.2263</td>\n",
       "    </tr>\n",
       "    <tr>\n",
       "      <td>Média de pontos por partida</td>\n",
       "      <td>6.24385</td>\n",
       "      <td>3.39169</td>\n",
       "    </tr>\n",
       "    <tr>\n",
       "      <td>Rebotes acertados</td>\n",
       "      <td>2.87316</td>\n",
       "      <td>1.65058</td>\n",
       "    </tr>\n",
       "    <tr>\n",
       "      <td>Assistências</td>\n",
       "      <td>1.36614</td>\n",
       "      <td>0.861894</td>\n",
       "    </tr>\n",
       "    <tr>\n",
       "      <td>Percentual médio de utilização do jogador por jogo</td>\n",
       "      <td>0.186405</td>\n",
       "      <td>0.174647</td>\n",
       "    </tr>\n",
       "  </tbody>\n",
       "</table>\n",
       "</div>"
      ],
      "text/plain": [
       "                                                     Drafted Non Drafted\n",
       "Altura do Jogador (cm)                               200.666      197.84\n",
       "Peso do jogador (kg)                                 100.104     96.9128\n",
       "Média de Jogos jogados                               48.7729     26.2263\n",
       "Média de pontos por partida                          6.24385     3.39169\n",
       "Rebotes acertados                                    2.87316     1.65058\n",
       "Assistências                                         1.36614    0.861894\n",
       "Percentual médio de utilização do jogador por jogo  0.186405    0.174647"
      ]
     },
     "execution_count": 22,
     "metadata": {},
     "output_type": "execute_result"
    }
   ],
   "source": [
    "data_diff"
   ]
  },
  {
   "cell_type": "markdown",
   "metadata": {},
   "source": [
    "### Resumindo\n",
    "#### Resposta da pergunta \"Existem universidades que se destacam no draft?\".\n",
    "\n",
    "Dada a análise exploratória desses dados, conseguiu-se observar relações que implicam na convocação de determinado jogador para a NBA, isso faz com que possa-se explorar a capacidade de alguns atributos em prever os resultados de um outro possível *draft*. Essa análise exploratória tinha como pretexto demonstrar a existência de instituições de ensino que se destacam pela quantidade de jogadores aprovados para a NBA, após mostrar que há universidades que se destacam, criou-se uma linha de raciocínio capaz de demonstrar que esse não pode ser o único atributo utilizado para explicar se um jogador será ou não aprovado, visto que os jogadores draftados, em média possuem *scouts* muito mais significantes do que os não draftados. \n",
    "\n",
    "O estudo aqui realizado, respaldará em uma análise de um possível comportamento aleatório dos atributos, tentando entender se as hipóteses aqui levantadas são coerentes. Esse fator, será determinante para analisar se é possível utilizar alguns atributos da base para entender se possívelmente um jogador será draftado ou não."
   ]
  }
 ],
 "metadata": {
  "kernelspec": {
   "display_name": "Python 3",
   "language": "python",
   "name": "python3"
  },
  "language_info": {
   "codemirror_mode": {
    "name": "ipython",
    "version": 3
   },
   "file_extension": ".py",
   "mimetype": "text/x-python",
   "name": "python",
   "nbconvert_exporter": "python",
   "pygments_lexer": "ipython3",
   "version": "3.7.4"
  }
 },
 "nbformat": 4,
 "nbformat_minor": 2
}

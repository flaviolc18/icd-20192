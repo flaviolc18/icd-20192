{
 "cells": [
  {
   "cell_type": "markdown",
   "metadata": {},
   "source": [
    "# Trabalho Final - Intrudução à Ciência dos Dados"
   ]
  },
  {
   "cell_type": "markdown",
   "metadata": {},
   "source": [
    "## Motivação\n",
    "Muitos jovens que vivem nos Estados Unidos desejam ingressar no mundo profissional dos esportes, para isso, estes jovens devem ingressar em um universidade ou em um colégio a fim de se candidatarem para o painel de seleção de jogadores (o draft). Isso faz com que ao longo da vida de estudante, uma pessoa tome diversas escolhas sobre a carreira esportiva, dado que o draft é o principal meio de ingresso nos esportes e há uma quantia significativa de jogadores que provém das mais variadas universidades e colégios (que de forma geral chamaremos de *college*) do país.\n",
    "\n",
    "Imagine-se como um estudante que desde criança tem aptidão para o basquete, é o melhor jogador entre o grupo de amigos e todos o elogiam por isso. É possível, que desde cedo deseje saber qual caminho trilhar para se tornar um dia um astro da NBA ou então até mesmo, deseje utiliza tal esporte como forma de realização de um sonho de ser famoso e reconhecido. Então, na análise de decisões sobre os rumos que um jogador deve trilhar, seguiremos neste trabalho uma observação detalhada sobre quais seriam os principais *colleges* que produzem jogadores para o país, sendo que dessa forma, e se há verdadeiramente uma boa escolha de instituição de ensino capaz impulsionar a carreira esportiva de um estudante.\n",
    "\n",
    "Para tal determinação, levantaremos algumas perguntas que podemos responder através da análise estatística dos dados. Tais perguntas motivarão hipóteses e produzirão uma linha de raciocínio baseadas em pesquisas e exploração do comportamento das bases de dados escolhidas para o trabalho. Podemos classificas as perguntas como as seguintes:\n",
    "\n",
    "1. Existem universidades que se destacam no draft?\n",
    "2. Qual a relação entre ser um AllStar e ser draftado a partir de determinada universidade?\n",
    "3. Há universidades que aumentam as chances de determinado jogador sejam draftados ou não?"
   ]
  },
  {
   "cell_type": "code",
   "execution_count": 161,
   "metadata": {
    "_cell_guid": "b1076dfc-b9ad-4769-8c92-a6c4dae69d19",
    "_uuid": "8f2839f25d086af736a60e9eeb907d3b93b6e0e5"
   },
   "outputs": [
    {
     "name": "stdout",
     "output_type": "stream",
     "text": [
      "/kaggle/input/nba-players-data/all_seasons.csv\n"
     ]
    }
   ],
   "source": [
    "# This Python 3 environment comes with many helpful analytics libraries installed\n",
    "# It is defined by the kaggle/python docker image: https://github.com/kaggle/docker-python\n",
    "# For example, here's several helpful packages to load in \n",
    "\n",
    "import numpy as np # linear algebra\n",
    "import pandas as pd # data processing, CSV file I/O (e.g. pd.read_csv)\n",
    "import seaborn as sns\n",
    "from matplotlib import pyplot as plt\n",
    "\n",
    "# Input data files are available in the \"../input/\" directory.\n",
    "# For example, running this (by clicking run or pressing Shift+Enter) will list all files under the input directory\n",
    "\n",
    "import os\n",
    "for dirname, _, filenames in os.walk('/kaggle/input'):\n",
    "    for filename in filenames:\n",
    "        print(os.path.join(dirname, filename))\n",
    "\n",
    "# Any results you write to the current directory are saved as output."
   ]
  },
  {
   "cell_type": "code",
   "execution_count": 162,
   "metadata": {
    "_cell_guid": "",
    "_uuid": ""
   },
   "outputs": [],
   "source": [
    "df = pd.read_csv(\"../input/nba-players-data/all_seasons.csv\")"
   ]
  },
  {
   "cell_type": "markdown",
   "metadata": {},
   "source": [
    "## Tratamento do dados\n",
    "\n",
    "Os datasets possuem as informações necessárias para o estudo que se deseja realizar, entretanto, os dados não estão totalmente prontos para a análise e comparações. Alguns dados precisam ser convertidos em numéricos ao invés de strings além de necessitar de transformações que auxiliarão na plotagem de determinados graficos.\n",
    "\n",
    "Uma vez que há uma análise categórica a cerca dos dados, deve-se converter tal categoria com dados strings para dados numéricos a fim de possibilitar que o computador interprete essa informação na aplicação de um método de aprendizagem de máquina. Por fim, também vale ressaltar que devido ao grande tamanho da base de dados, que são dados ao longo do tempo, deseja-se analisar um comportamento condizente com a atualidade, por isso, também é preciso reduzir a quantidade de informações de acordo com um intervalo de tempo."
   ]
  },
  {
   "cell_type": "markdown",
   "metadata": {},
   "source": [
    "#### Normalizando o dado \"temporada\"\n",
    "Visto que na NBA as temporadas iniciam-se no final de determinado ano e encerram-se no ano seguinte, os dados de temporada, na base de dados são dados como uma string indicando o ano de início e de fim da temporada. Entretanto, por motivos de facilitar essa comparação, modificaremos tal atributo, de forma que identificaremos uma temporada apenas pelo seu ano de início, convertendo tal atributo para um dado numérico."
   ]
  },
  {
   "cell_type": "code",
   "execution_count": 163,
   "metadata": {},
   "outputs": [
    {
     "name": "stdout",
     "output_type": "stream",
     "text": [
      "-- Antes do tratamento\n",
      "0    1996-97\n",
      "1    1996-97\n",
      "2    1996-97\n",
      "3    1996-97\n",
      "4    1996-97\n",
      "Name: season, dtype: object\n",
      "\n",
      "-- Após o tratamento\n",
      "0    1996\n",
      "1    1996\n",
      "2    1996\n",
      "3    1996\n",
      "4    1996\n",
      "Name: season, dtype: int64\n"
     ]
    }
   ],
   "source": [
    "print('-- Antes do tratamento')\n",
    "print(df['season'].head())\n",
    "\n",
    "#tratando a informação da temporada\n",
    "new = df['season'].str.split('-', n=1, expand=True)\n",
    "df['season'] = pd.to_numeric(new[0])\n",
    "print('\\n-- Após o tratamento')\n",
    "print(df['season'].head())"
   ]
  },
  {
   "cell_type": "markdown",
   "metadata": {},
   "source": [
    "#### Tratamento dos *stats* de cada jogador\n",
    "Nessa base de dados, há informações sobre as temporadas que os jogadores disputaram na NBA e também há informações sobre o ultimo ano do jogador no *college*, isso quer dizer que para a análise do draft, devemos obter apenas os dados dos jogadores referentes às suas participações nas categorias de base, excluindo dados da carreira profissional. Os scouts da primeira temporada de um jogador, envolvem a média retroativa do jogador no *college*, essa é uma estratégia utilizada pelas equipes para definir o progresso de cada jogador na liga, desde sua contratação.\n",
    "\n",
    "Cada vez mais, os times de esporte estão evoluindo sua maneira de avaliar o desempenho de jogadores, aplicando métodos de aprendizagem de máquina para especular a contribuição dos atletas a cada temporada. Para isso, é importante que hajam dados referentes às temporadas anteriores à profissionalização; fato que justifica a inserção dos dados do *college* na primeira temporada de cada jogador na liga principal."
   ]
  },
  {
   "cell_type": "code",
   "execution_count": 164,
   "metadata": {},
   "outputs": [
    {
     "name": "stdout",
     "output_type": "stream",
     "text": [
      "(9561, 22)\n"
     ]
    },
    {
     "data": {
      "text/html": [
       "<div>\n",
       "<style scoped>\n",
       "    .dataframe tbody tr th:only-of-type {\n",
       "        vertical-align: middle;\n",
       "    }\n",
       "\n",
       "    .dataframe tbody tr th {\n",
       "        vertical-align: top;\n",
       "    }\n",
       "\n",
       "    .dataframe thead th {\n",
       "        text-align: right;\n",
       "    }\n",
       "</style>\n",
       "<table border=\"1\" class=\"dataframe\">\n",
       "  <thead>\n",
       "    <tr style=\"text-align: right;\">\n",
       "      <th></th>\n",
       "      <th>Unnamed: 0</th>\n",
       "      <th>player_name</th>\n",
       "      <th>team_abbreviation</th>\n",
       "      <th>age</th>\n",
       "      <th>player_height</th>\n",
       "      <th>player_weight</th>\n",
       "      <th>college</th>\n",
       "      <th>country</th>\n",
       "      <th>draft_year</th>\n",
       "      <th>draft_round</th>\n",
       "      <th>...</th>\n",
       "      <th>pts</th>\n",
       "      <th>reb</th>\n",
       "      <th>ast</th>\n",
       "      <th>net_rating</th>\n",
       "      <th>oreb_pct</th>\n",
       "      <th>dreb_pct</th>\n",
       "      <th>usg_pct</th>\n",
       "      <th>ts_pct</th>\n",
       "      <th>ast_pct</th>\n",
       "      <th>season</th>\n",
       "    </tr>\n",
       "  </thead>\n",
       "  <tbody>\n",
       "    <tr>\n",
       "      <th>1863</th>\n",
       "      <td>1863</td>\n",
       "      <td>A.J. Guyton</td>\n",
       "      <td>CHI</td>\n",
       "      <td>23.0</td>\n",
       "      <td>185.42</td>\n",
       "      <td>81.64656</td>\n",
       "      <td>Indiana</td>\n",
       "      <td>USA</td>\n",
       "      <td>2000</td>\n",
       "      <td>2</td>\n",
       "      <td>...</td>\n",
       "      <td>6.0</td>\n",
       "      <td>1.1</td>\n",
       "      <td>1.9</td>\n",
       "      <td>-12.4</td>\n",
       "      <td>0.018</td>\n",
       "      <td>0.053</td>\n",
       "      <td>0.169</td>\n",
       "      <td>0.495</td>\n",
       "      <td>0.198</td>\n",
       "      <td>2000</td>\n",
       "    </tr>\n",
       "    <tr>\n",
       "      <th>2425</th>\n",
       "      <td>2425</td>\n",
       "      <td>A.J. Guyton</td>\n",
       "      <td>CHI</td>\n",
       "      <td>24.0</td>\n",
       "      <td>185.42</td>\n",
       "      <td>81.64656</td>\n",
       "      <td>Indiana</td>\n",
       "      <td>USA</td>\n",
       "      <td>2000</td>\n",
       "      <td>2</td>\n",
       "      <td>...</td>\n",
       "      <td>5.4</td>\n",
       "      <td>1.0</td>\n",
       "      <td>1.8</td>\n",
       "      <td>-3.8</td>\n",
       "      <td>0.022</td>\n",
       "      <td>0.067</td>\n",
       "      <td>0.221</td>\n",
       "      <td>0.477</td>\n",
       "      <td>0.248</td>\n",
       "      <td>2001</td>\n",
       "    </tr>\n",
       "    <tr>\n",
       "      <th>2941</th>\n",
       "      <td>2941</td>\n",
       "      <td>A.J. Guyton</td>\n",
       "      <td>GSW</td>\n",
       "      <td>25.0</td>\n",
       "      <td>185.42</td>\n",
       "      <td>81.64656</td>\n",
       "      <td>Indiana</td>\n",
       "      <td>USA</td>\n",
       "      <td>2000</td>\n",
       "      <td>2</td>\n",
       "      <td>...</td>\n",
       "      <td>0.0</td>\n",
       "      <td>0.0</td>\n",
       "      <td>1.0</td>\n",
       "      <td>-3.9</td>\n",
       "      <td>0.000</td>\n",
       "      <td>0.000</td>\n",
       "      <td>0.282</td>\n",
       "      <td>0.000</td>\n",
       "      <td>0.400</td>\n",
       "      <td>2002</td>\n",
       "    </tr>\n",
       "  </tbody>\n",
       "</table>\n",
       "<p>3 rows × 22 columns</p>\n",
       "</div>"
      ],
      "text/plain": [
       "      Unnamed: 0  player_name team_abbreviation   age  player_height  \\\n",
       "1863        1863  A.J. Guyton               CHI  23.0         185.42   \n",
       "2425        2425  A.J. Guyton               CHI  24.0         185.42   \n",
       "2941        2941  A.J. Guyton               GSW  25.0         185.42   \n",
       "\n",
       "      player_weight  college country draft_year draft_round  ...  pts  reb  \\\n",
       "1863       81.64656  Indiana     USA       2000           2  ...  6.0  1.1   \n",
       "2425       81.64656  Indiana     USA       2000           2  ...  5.4  1.0   \n",
       "2941       81.64656  Indiana     USA       2000           2  ...  0.0  0.0   \n",
       "\n",
       "      ast  net_rating  oreb_pct  dreb_pct  usg_pct  ts_pct  ast_pct  season  \n",
       "1863  1.9       -12.4     0.018     0.053    0.169   0.495    0.198    2000  \n",
       "2425  1.8        -3.8     0.022     0.067    0.221   0.477    0.248    2001  \n",
       "2941  1.0        -3.9     0.000     0.000    0.282   0.000    0.400    2002  \n",
       "\n",
       "[3 rows x 22 columns]"
      ]
     },
     "execution_count": 164,
     "metadata": {},
     "output_type": "execute_result"
    }
   ],
   "source": [
    "# observando os dados de um jogador qualquer antes da transformação\n",
    "print(df.shape)\n",
    "df[df['player_name'] == 'A.J. Guyton']"
   ]
  },
  {
   "cell_type": "markdown",
   "metadata": {},
   "source": [
    "A inserção de dados do *college* para cada jogador em sua primeira temporada, demonstra além de tudo se o atleta, apesar de obter um alto desempenho nas categorias de base, conseguiu manter o alto nível esportivo. No exemplo demonstrado aqui, é possivel observar uma piora a cada tempoda, apesar de *scouts* expressivos em sua primeira temporada."
   ]
  },
  {
   "cell_type": "code",
   "execution_count": 165,
   "metadata": {},
   "outputs": [
    {
     "name": "stdout",
     "output_type": "stream",
     "text": [
      "(1892, 22)\n"
     ]
    },
    {
     "data": {
      "text/html": [
       "<div>\n",
       "<style scoped>\n",
       "    .dataframe tbody tr th:only-of-type {\n",
       "        vertical-align: middle;\n",
       "    }\n",
       "\n",
       "    .dataframe tbody tr th {\n",
       "        vertical-align: top;\n",
       "    }\n",
       "\n",
       "    .dataframe thead th {\n",
       "        text-align: right;\n",
       "    }\n",
       "</style>\n",
       "<table border=\"1\" class=\"dataframe\">\n",
       "  <thead>\n",
       "    <tr style=\"text-align: right;\">\n",
       "      <th></th>\n",
       "      <th>Unnamed: 0</th>\n",
       "      <th>player_name</th>\n",
       "      <th>team_abbreviation</th>\n",
       "      <th>age</th>\n",
       "      <th>player_height</th>\n",
       "      <th>player_weight</th>\n",
       "      <th>college</th>\n",
       "      <th>country</th>\n",
       "      <th>draft_year</th>\n",
       "      <th>draft_round</th>\n",
       "      <th>...</th>\n",
       "      <th>pts</th>\n",
       "      <th>reb</th>\n",
       "      <th>ast</th>\n",
       "      <th>net_rating</th>\n",
       "      <th>oreb_pct</th>\n",
       "      <th>dreb_pct</th>\n",
       "      <th>usg_pct</th>\n",
       "      <th>ts_pct</th>\n",
       "      <th>ast_pct</th>\n",
       "      <th>season</th>\n",
       "    </tr>\n",
       "  </thead>\n",
       "  <tbody>\n",
       "    <tr>\n",
       "      <th>1863</th>\n",
       "      <td>1863</td>\n",
       "      <td>A.J. Guyton</td>\n",
       "      <td>CHI</td>\n",
       "      <td>23.0</td>\n",
       "      <td>185.42</td>\n",
       "      <td>81.64656</td>\n",
       "      <td>Indiana</td>\n",
       "      <td>USA</td>\n",
       "      <td>2000</td>\n",
       "      <td>2</td>\n",
       "      <td>...</td>\n",
       "      <td>6.0</td>\n",
       "      <td>1.1</td>\n",
       "      <td>1.9</td>\n",
       "      <td>-12.4</td>\n",
       "      <td>0.018</td>\n",
       "      <td>0.053</td>\n",
       "      <td>0.169</td>\n",
       "      <td>0.495</td>\n",
       "      <td>0.198</td>\n",
       "      <td>2000</td>\n",
       "    </tr>\n",
       "  </tbody>\n",
       "</table>\n",
       "<p>1 rows × 22 columns</p>\n",
       "</div>"
      ],
      "text/plain": [
       "      Unnamed: 0  player_name team_abbreviation   age  player_height  \\\n",
       "1863        1863  A.J. Guyton               CHI  23.0         185.42   \n",
       "\n",
       "      player_weight  college country draft_year draft_round  ...  pts  reb  \\\n",
       "1863       81.64656  Indiana     USA       2000           2  ...  6.0  1.1   \n",
       "\n",
       "      ast  net_rating  oreb_pct  dreb_pct  usg_pct  ts_pct  ast_pct  season  \n",
       "1863  1.9       -12.4     0.018     0.053    0.169   0.495    0.198    2000  \n",
       "\n",
       "[1 rows x 22 columns]"
      ]
     },
     "execution_count": 165,
     "metadata": {},
     "output_type": "execute_result"
    }
   ],
   "source": [
    "# removendo dados com nomes iguais, deixando apenas os com as menores seasons / ages\n",
    "# obtendo a primeira temporada de cada jogador\n",
    "df = df.loc[df.groupby(\"player_name\")[\"age\"].idxmin()]\n",
    "\n",
    "print(df.shape)\n",
    "df[df['player_name'] == 'A.J. Guyton']"
   ]
  },
  {
   "cell_type": "markdown",
   "metadata": {},
   "source": [
    "#### Categorização via One-Hot\n",
    "É possível que seja necessário utilizar métodos de classificação para tentar predizer uma boa universidade ou alguma informaçãao a cerca das universidades. Então, por esse motivo, é necessário converter o dado \"college\", que trata-se de uma coluna do tipo *string*, em diversas colunas do tipo inteiros (ou até mesmo booleano) identificando se cada jogador pertence ou não a cada um dos *colleges* através da marcação de 0 e 1. Isso fará com que haja um acrescimo de colunas, equivalente à quantidade de *colleges* identificados."
   ]
  },
  {
   "cell_type": "code",
   "execution_count": 166,
   "metadata": {},
   "outputs": [],
   "source": [
    "# incluindo colunas para cada universidade onde para um jogador X a coluna correspondente\n",
    "# a universidade Y tem o valor 1 se X percence a Y e 0 caso contrário\n",
    "colleges = df['college'].unique()\n",
    "colleges_map = {}\n",
    "for college in colleges:\n",
    "    college_column_name = college.lower().replace(\" \", \"_\")\n",
    "    colleges_map[college] = college_column_name\n",
    "    df[college_column_name] = df['college'].apply(lambda c: 1 if c==college else 0)\n",
    "\n",
    "\n",
    "# Validando se o dado está correto para o jogador indicado\n",
    "assert df[df['player_name'] == 'A.J. Guyton']['indiana'].values[0] == 1\n",
    "\n",
    "# A soma de todos os valore nas colunas que identificam colleges deve ser igual a 1\n",
    "s = 0\n",
    "for college in colleges:\n",
    "    college_column_name = college.lower().replace(\" \", \"_\")\n",
    "    s+=df[df['player_name'] == 'A.J. Guyton'][college_column_name]\n",
    "\n",
    "assert s.values[0] == 1"
   ]
  },
  {
   "cell_type": "markdown",
   "metadata": {},
   "source": [
    "#### Mapeando os jogadores não draftados dos jogadores draftados\n",
    "Nessa base de dados, há uma coluna de nome \"draft_yer\" que identifica quando um jogador fora concovado por uma equipe durante o draft, além de identificar se ele foi draftado ou não através de um coluna com o dado 'Undrafted' que identifica os jogadores que não foram convocados para a temporada da NBA via draft, mas sim por um contrato pós sessão de escolhas. Nisso, identificaremos que um jogador passou pela tentativa de draft no mesmo ano de sua primeira temporada, e criaremos uma coluna com um dado binário (0/1) identificando a partir da coluna \"draft_year\" se uma coluna possui o dado 'Undrafted' ou não."
   ]
  },
  {
   "cell_type": "code",
   "execution_count": 167,
   "metadata": {},
   "outputs": [
    {
     "name": "stdout",
     "output_type": "stream",
     "text": [
      "      drafted draft_year\n",
      "8902        0  Undrafted\n",
      "4331        0  Undrafted\n",
      "297         0  Undrafted\n",
      "2938        0  Undrafted\n",
      "7671        0  Undrafted\n",
      "\n",
      "       drafted draft_year\n",
      "299         1       1985\n",
      "1426        1       1999\n",
      "1863        1       2000\n",
      "9396        1       2016\n",
      "5923        1       2009\n"
     ]
    }
   ],
   "source": [
    "# criando a nova coluna para jogadores selecionados no draft ou não\n",
    "df['drafted'] = df['draft_year'].apply(lambda c: 1 if c!='Undrafted' else 0)\n",
    "print(df.loc[df['draft_year'] == 'Undrafted',['drafted', 'draft_year']].head())\n",
    "\n",
    "print('\\n', df.loc[df['draft_year'] != 'Undrafted',['drafted', 'draft_year']].head())"
   ]
  },
  {
   "cell_type": "markdown",
   "metadata": {},
   "source": [
    "## Análise Exploratória\n",
    "Durante a análise exploratória dos dados, será possível observar o comportamento da base de dados para alguns casos específicos e determinar certas afirmações que podem ser úteis para alguns estudos. Também é possível que em determinadas observações, identifique-se dados que podem ser acrescidos ou decrescidos da base pra auxiliar o estudo. Então, nessa sessão, também cabem certos tratamentos de dados para adaptação dos dados ao modelo de aprendizagem, o qual pretende-se gerar no futuro."
   ]
  },
  {
   "cell_type": "markdown",
   "metadata": {},
   "source": [
    "#### Identificando o comportamento por quartis da base de dados\n",
    "Cada *college* é responsável por enviar certa quantia de alunos para a NBA, sendo assim, deseja-se saber o comportamento por quartis das instituições de ensino. Para saber se é possível avaliar a quantidade de jogadores em média que cada *college* prepara para a carreira esportiva, além de identificar se há *outliers*. A identificação de *outliers* é importante pois pode demonstrar uma possível tendência de algumas escolas em se destacarem no processo de seleção de jogadores, uma vez que é esse o possível estudo que deseja-se realizar dado como motivação deste trabalho.\n",
    "\n",
    "Para tal tarefa, plotaremos um box plot a fim de identificar se há poucas universidades que se destacam em presença na liga nacional de basquete. Isso será importante na composição de futuras hipóteses."
   ]
  },
  {
   "cell_type": "code",
   "execution_count": 168,
   "metadata": {},
   "outputs": [
    {
     "data": {
      "image/png": "[encoded data removed]",
      "text/plain": [
       "<Figure size 432x288 with 1 Axes>"
      ]
     },
     "metadata": {
      "needs_background": "light"
     },
     "output_type": "display_data"
    }
   ],
   "source": [
    "# plotar um box plot identificando a quantidade de jogadores draftados por college\n",
    "plt.boxplot(df.groupby('college')['drafted'].sum())\n",
    "plt.show()"
   ]
  },
  {
   "cell_type": "markdown",
   "metadata": {},
   "source": [
    "De antemão é possível identificar que há um outlier significativo nos dados, e isso pode sugerir que há uma tendência. Então um segundo estudo pode demonstrar se é um caso isolado, um comportamento anômalo ou um dado indesejado. Ao ordenar os dados que foram plotados, identificaremos qual o college que exporta tal quantia de jogadores."
   ]
  },
  {
   "cell_type": "code",
   "execution_count": 169,
   "metadata": {},
   "outputs": [
    {
     "name": "stdout",
     "output_type": "stream",
     "text": [
      "college\n",
      "None                     198\n",
      "Kentucky                  44\n",
      "North Carolina            36\n",
      "UCLA                      36\n",
      "Duke                      36\n",
      "                        ... \n",
      "Pfeiffer                   0\n",
      "Florida International      0\n",
      "Fordham                    0\n",
      "George Mason               0\n",
      "Montevallo                 0\n",
      "Name: drafted, Length: 287, dtype: int64\n"
     ]
    }
   ],
   "source": [
    "print(df.groupby('college')['drafted'].sum().sort_values()[::-1])"
   ]
  },
  {
   "cell_type": "markdown",
   "metadata": {},
   "source": [
    "Então temos identificado um dado indesejado, em que 198 dos jogadores da base da NBA não passaram por uma instituição de ensino cadastrada na liga nacional, ou não se candidataram ao draft em momento algum. Logo, cabe um novo tratamento dos dados para excluir a coluna criada pela técnica One-Hot e também as linhas referentes a estes mesmos jogadores."
   ]
  },
  {
   "cell_type": "code",
   "execution_count": 170,
   "metadata": {},
   "outputs": [],
   "source": [
    "df = df[df['college'] != 'None']\n",
    "df = df.drop(columns=[colleges_map['None']])\n",
    "del colleges_map['None']"
   ]
  },
  {
   "cell_type": "markdown",
   "metadata": {},
   "source": [
    "Assim, pode-se observar através de uma simples listagem, todas as universidades que estão acima do 3º quatil através da identificação do valor que mapeia o 3º quartil e então demonstrar que algumas universidades estão melhor colocadas que outras, havendo uma certa discrepância entre algumas instituições."
   ]
  },
  {
   "cell_type": "code",
   "execution_count": 171,
   "metadata": {},
   "outputs": [
    {
     "data": {
      "image/png": "[encoded data removed]",
      "text/plain": [
       "<Figure size 432x288 with 1 Axes>"
      ]
     },
     "metadata": {
      "needs_background": "light"
     },
     "output_type": "display_data"
    }
   ],
   "source": [
    "colleges_by_players = df.groupby('college')['drafted'].sum()\n",
    "plt.boxplot(colleges_by_players)\n",
    "plt.show()"
   ]
  },
  {
   "cell_type": "markdown",
   "metadata": {},
   "source": [
    "As instituições que se destacam (instituições que \"*outliers*\") são classificadas por fornecer mais de 10 jogadores, como observado acima. Então, estas, podem ser identificadas por um simples grafico de barras, a fim de fixar quais as melhores instituições segundo os dados e, ao final, observar se há fator que explique tal comportamento ou é um acaso."
   ]
  },
  {
   "cell_type": "code",
   "execution_count": 172,
   "metadata": {},
   "outputs": [
    {
     "data": {
      "image/png": "[encoded data removed]",
      "text/plain": [
       "<Figure size 432x288 with 1 Axes>"
      ]
     },
     "metadata": {
      "needs_background": "light"
     },
     "output_type": "display_data"
    },
    {
     "name": "stdout",
     "output_type": "stream",
     "text": [
      "college\n",
      "Kentucky                44\n",
      "Duke                    36\n",
      "UCLA                    36\n",
      "North Carolina          36\n",
      "Kansas                  34\n",
      "Arizona                 34\n",
      "Syracuse                28\n",
      "Georgia Tech            24\n",
      "Connecticut             23\n",
      "Michigan                22\n",
      "Maryland                19\n",
      "Michigan State          19\n",
      "Florida                 19\n",
      "Texas                   17\n",
      "Louisville              17\n",
      "Memphis                 16\n",
      "Washington              16\n",
      "Georgetown              16\n",
      "Stanford                15\n",
      "Louisiana State         15\n",
      "Florida State           15\n",
      "Indiana                 15\n",
      "Iowa State              14\n",
      "Illinois                13\n",
      "North Carolina State    13\n",
      "California              13\n",
      "Ohio State              13\n",
      "St. John's (NY)         13\n",
      "Providence              12\n",
      "Notre Dame              12\n",
      "Alabama                 12\n",
      "Villanova               12\n",
      "Marquette               12\n",
      "Nevada-Las Vegas        12\n",
      "Oklahoma                11\n",
      "Arkansas                11\n",
      "Wake Forest             11\n",
      "Cincinnati              11\n",
      "Clemson                 10\n",
      "Name: drafted, dtype: int64\n"
     ]
    }
   ],
   "source": [
    "colleges_by_players.sort_values()[:-40:-1].plot.bar()\n",
    "plt.show()\n",
    "\n",
    "print(colleges_by_players.sort_values()[:-40:-1])"
   ]
  },
  {
   "cell_type": "markdown",
   "metadata": {},
   "source": [
    "Uma possível abordagem para o futuro jogador da NBA seria identificar que nem sempre é tão necessário estar em um *college* para se tornar um grande jogador. Uma vez que a própria base de dados nos dá 1820 jogadores diferentes dos quais 198 não se candidataram ao draft. Sendo que foram contratados em janelas de transferências entre times fora da liga principal de basquete. Então, como observado nos dados, mais de 10% dos jogaores entre 2000 e 2016 (198$\\div$1820) entraram na liga de uma maneira diferente do draft."
   ]
  },
  {
   "cell_type": "markdown",
   "metadata": {},
   "source": [
    "#### Analisando os *stats* dos jogadores\n",
    "\n",
    "Para que um jogador seja convocado por uma equipe da NBA, este deve ser um bom jogador, ou seja: deve ter boas pontuações e notas nas principais caracteírsticas analisadas. Para isso, iniciaremos uma observação do comportamento médio para cada um dos *stats*/*scouts*, assim pode-se ainda especular a cerca de um jogador se tornar ou não um grande astro do basquete (*Allstar*), uma vez que os astros das temporadas são analisados de acordo com estes mesmos parâmetros. Dessa forma, o aluno que deseja se tornar um grande astro do basquete, pode observar qual a pontuação mínima em cada *scout* deve alcançar e manter para que realize o desejo de entrar na principal liga de basquete do mundo.\n",
    "\n",
    "Dois gráficos serão mostrados, levando em conta apenas os jogadores que se canditaram ao draft, demonstrando a média do comportamento dos jogadores convocados e dos jogadores não convocados."
   ]
  },
  {
   "cell_type": "code",
   "execution_count": 173,
   "metadata": {},
   "outputs": [
    {
     "data": {
      "image/png": "[encoded data removed]",
      "text/plain": [
       "<Figure size 432x288 with 1 Axes>"
      ]
     },
     "metadata": {
      "needs_background": "light"
     },
     "output_type": "display_data"
    },
    {
     "data": {
      "image/png": "[encoded data removed]",
      "text/plain": [
       "<Figure size 432x288 with 1 Axes>"
      ]
     },
     "metadata": {
      "needs_background": "light"
     },
     "output_type": "display_data"
    },
    {
     "data": {
      "image/png": "[encoded data removed]",
      "text/plain": [
       "<Figure size 432x288 with 1 Axes>"
      ]
     },
     "metadata": {
      "needs_background": "light"
     },
     "output_type": "display_data"
    },
    {
     "data": {
      "image/png": "[encoded data removed]",
      "text/plain": [
       "<Figure size 432x288 with 1 Axes>"
      ]
     },
     "metadata": {
      "needs_background": "light"
     },
     "output_type": "display_data"
    },
    {
     "data": {
      "image/png": "[encoded data removed]",
      "text/plain": [
       "<Figure size 432x288 with 1 Axes>"
      ]
     },
     "metadata": {
      "needs_background": "light"
     },
     "output_type": "display_data"
    },
    {
     "data": {
      "image/png": "[encoded data removed]",
      "text/plain": [
       "<Figure size 432x288 with 1 Axes>"
      ]
     },
     "metadata": {
      "needs_background": "light"
     },
     "output_type": "display_data"
    },
    {
     "data": {
      "image/png": "[encoded data removed]",
      "text/plain": [
       "<Figure size 432x288 with 1 Axes>"
      ]
     },
     "metadata": {
      "needs_background": "light"
     },
     "output_type": "display_data"
    }
   ],
   "source": [
    "draft_status = ['Drafted', 'Non Drafted']\n",
    "scout_attr = ['player_height', 'player_weight', 'gp', 'pts', 'reb', 'ast', 'usg_pct']\n",
    "scout_names = ['Altura do Jogador (cm)', 'Peso do jogador (kg)', 'Média de Jogos jogados', 'Média de pontos por partida','Rebotes acertados', 'Assistências', \n",
    "               'Percentual médio de utilização do jogador por jogo']\n",
    "\n",
    "data_diff = pd.DataFrame(columns=draft_status, index=scout_names)\n",
    "\n",
    "for i in range(len(scout_attr)):\n",
    "    non_drafted_data = df.loc[df['drafted']!=1, scout_attr[i]].mean(axis=0)\n",
    "    drafted_data = df.loc[df['drafted']==1, scout_attr[i]].mean(axis=0)\n",
    "    data_diff.iloc[i] = [drafted_data, non_drafted_data]\n",
    "    plt.bar(draft_status, [drafted_data, non_drafted_data], color=['blue', 'red'])\n",
    "    plt.ylabel(scout_names[i])\n",
    "    plt.show()\n"
   ]
  },
  {
   "cell_type": "markdown",
   "metadata": {},
   "source": [
    "\n",
    "Baseando-se nos gráficos, é possível observar que há uma relação entre os *scouts* dos jogadores e se eles foram ou não draftados. Podendo-se entender que, no caso do atributo *college* ser uma diferencial na escolha do atleta este não é um atributo suficiente para definir se o aluno será convocado para a NBA. Sendo assim, há diversas variáveis que devem ser analisadas a fim de classificar se determinado jogador é um bom atleta. Um fato que já é conhecido, o atributo 'usg_pct'(percentual médio de utilização do jogador na partida), é um determinante de qualidade, uma vez que é fácil de se imaginar que os bons jogadores sejam utilizados por mais tempo, ou seja, os atletas com valores altos de 'usg_pct', provavelmente são mais bem notados do que os demais.\n",
    "\n",
    "Mesmo que os gráficos demonstrem que a diferença é sutil entre os draftados e não draftados, quanto ao atributo 'usg_pct', a diferença é reconhecida, entretando devendo-se considerar os demais atributos, uma vez que um atleta deve possuir alguma outra qualidade prática (quantidade de pontos, quantidade de assistências, rebotes acertados e etc). Nesse mesmo raciocínio, pode-se compor hipóteses sobre a o comportamento dos jogadores aprovados e os demais atributos, observando se os dados são de certa forma aleatórios entre si, ou seja, se não há uma correlação entre estes.\n",
    "\n",
    "Observe na lista a seguir que na média, os jogadores draftados possuem um desempenho maior que os não draftados, sendo que em alguns casos é possível reconhecer uma diferença muito grande, que possivelmente são os outros fatores de grande peso na definição da aprovação ou reprovação de um jogador no draft. Futuramente, esses fatores serão explorados como forma de previsão de alguns dados."
   ]
  },
  {
   "cell_type": "code",
   "execution_count": 174,
   "metadata": {},
   "outputs": [
    {
     "data": {
      "text/html": [
       "<div>\n",
       "<style scoped>\n",
       "    .dataframe tbody tr th:only-of-type {\n",
       "        vertical-align: middle;\n",
       "    }\n",
       "\n",
       "    .dataframe tbody tr th {\n",
       "        vertical-align: top;\n",
       "    }\n",
       "\n",
       "    .dataframe thead th {\n",
       "        text-align: right;\n",
       "    }\n",
       "</style>\n",
       "<table border=\"1\" class=\"dataframe\">\n",
       "  <thead>\n",
       "    <tr style=\"text-align: right;\">\n",
       "      <th></th>\n",
       "      <th>Drafted</th>\n",
       "      <th>Non Drafted</th>\n",
       "    </tr>\n",
       "  </thead>\n",
       "  <tbody>\n",
       "    <tr>\n",
       "      <th>Altura do Jogador (cm)</th>\n",
       "      <td>200.666</td>\n",
       "      <td>197.84</td>\n",
       "    </tr>\n",
       "    <tr>\n",
       "      <th>Peso do jogador (kg)</th>\n",
       "      <td>100.104</td>\n",
       "      <td>96.9128</td>\n",
       "    </tr>\n",
       "    <tr>\n",
       "      <th>Média de Jogos jogados</th>\n",
       "      <td>48.7729</td>\n",
       "      <td>26.2263</td>\n",
       "    </tr>\n",
       "    <tr>\n",
       "      <th>Média de pontos por partida</th>\n",
       "      <td>6.24385</td>\n",
       "      <td>3.39169</td>\n",
       "    </tr>\n",
       "    <tr>\n",
       "      <th>Rebotes acertados</th>\n",
       "      <td>2.87316</td>\n",
       "      <td>1.65058</td>\n",
       "    </tr>\n",
       "    <tr>\n",
       "      <th>Assistências</th>\n",
       "      <td>1.36614</td>\n",
       "      <td>0.861894</td>\n",
       "    </tr>\n",
       "    <tr>\n",
       "      <th>Percentual médio de utilização do jogador por jogo</th>\n",
       "      <td>0.186405</td>\n",
       "      <td>0.174647</td>\n",
       "    </tr>\n",
       "  </tbody>\n",
       "</table>\n",
       "</div>"
      ],
      "text/plain": [
       "                                                     Drafted Non Drafted\n",
       "Altura do Jogador (cm)                               200.666      197.84\n",
       "Peso do jogador (kg)                                 100.104     96.9128\n",
       "Média de Jogos jogados                               48.7729     26.2263\n",
       "Média de pontos por partida                          6.24385     3.39169\n",
       "Rebotes acertados                                    2.87316     1.65058\n",
       "Assistências                                         1.36614    0.861894\n",
       "Percentual médio de utilização do jogador por jogo  0.186405    0.174647"
      ]
     },
     "execution_count": 174,
     "metadata": {},
     "output_type": "execute_result"
    }
   ],
   "source": [
    "data_diff"
   ]
  },
  {
   "cell_type": "markdown",
   "metadata": {},
   "source": [
    "### Resumindo\n",
    "#### Resposta da pergunta \"Existem universidades que se destacam no draft?\".\n",
    "\n",
    "Dada a análise exploratória desses dados, conseguiu-se observar relações que implicam na convocação de determinado jogador para a NBA, isso faz com que possa-se explorar a capacidade de alguns atributos em prever os resultados de um outro possível *draft*. Essa análise exploratória tinha como pretexto demonstrar a existência de instituições de ensino que se destacam pela quantidade de jogadores aprovados para a NBA, após mostrar que há universidades que se destacam, criou-se uma linha de raciocínio capaz de demonstrar que esse não pode ser o único atributo utilizado para explicar se um jogador será ou não aprovado, visto que os jogadores draftados, em média possuem *scouts* muito mais significantes do que os não draftados. \n",
    "\n",
    "O estudo aqui realizado, respaldará em uma análise de um possível comportamento aleatório dos atributos, tentando entender se as hipóteses aqui levantadas são coerentes. Esse fator, será determinante para analisar se é possível utilizar alguns atributos da base para entender se possívelmente um jogador será draftado ou não."
   ]
  },
  {
   "cell_type": "markdown",
   "metadata": {},
   "source": [
    "## Caracterização\n",
    "\n",
    "Baseando-se nos testes da etapa anterior, agora deseja-se realizar um estudo prático a cerca da possibilidade em prever resultados de acordo com outros dados. Tal tarefa, tem como base, os dados obtidos através da análises realizadas anteriormente, em que os observou-se a existência de comportamentos aleatórios além de explorar hispóteses que trouxeram uma nova perspectiva de visualização dos dados. Para isso utlizaremos de dois métodos para abordar os parâmetros da base de dados, um classificador e um regressor, cada qual explorando a idéia de que é possível entender um resultado levando em consideração atributos chave."
   ]
  },
  {
   "cell_type": "markdown",
   "metadata": {},
   "source": [
    "### Classificação\n",
    "\n",
    "A motivação deste trabalho, consiste em analisar se existem universidades capazes de promoverem melhor determinador jogador, então para esse momento utilizaremos uma regressão em que tomaremos como atributos principais os principais scouts dos jogadores, além da informação sobre qual universidade determinado atleta pertence. Deseja ainda, realizar um estudo de forma a permutar a universidade dos jogadores, de forma que seja possível observar se um jogador seria draftado caso estivesse em outra universidade."
   ]
  },
  {
   "cell_type": "markdown",
   "metadata": {},
   "source": [
    "De início, temos todas as posíveis universidades da base de dados em um *dict* e os dados dessas universidades estão representados no dataset via One-Hot."
   ]
  },
  {
   "cell_type": "code",
   "execution_count": 175,
   "metadata": {},
   "outputs": [
    {
     "data": {
      "text/plain": [
       "{'Oregon State': 'oregon_state',\n",
       " 'Arizona': 'arizona',\n",
       " 'Indiana': 'indiana',\n",
       " 'Purdue': 'purdue',\n",
       " 'Connecticut': 'connecticut',\n",
       " 'Oregon': 'oregon',\n",
       " 'Pittsburgh': 'pittsburgh',\n",
       " 'Kentucky': 'kentucky',\n",
       " 'Temple': 'temple',\n",
       " 'Kansas': 'kansas',\n",
       " 'Xavier': 'xavier',\n",
       " 'Iowa': 'iowa',\n",
       " 'Texas A&M': 'texas_a&m',\n",
       " 'Auburn': 'auburn',\n",
       " 'Stanford': 'stanford',\n",
       " 'Gonzaga': 'gonzaga',\n",
       " 'Colgate': 'colgate',\n",
       " 'Memphis': 'memphis',\n",
       " 'Michigan State': 'michigan_state',\n",
       " 'Lamar': 'lamar',\n",
       " 'Seton Hall': 'seton_hall',\n",
       " 'Florida': 'florida',\n",
       " 'Florida State': 'florida_state',\n",
       " 'Wake Forest': 'wake_forest',\n",
       " 'California-Santa Barbara': 'california-santa_barbara',\n",
       " 'Wisconsin': 'wisconsin',\n",
       " 'Colorado': 'colorado',\n",
       " 'Barton Community College': 'barton_community_college',\n",
       " 'Pepperdine': 'pepperdine',\n",
       " 'New Mexico': 'new_mexico',\n",
       " 'Maryland': 'maryland',\n",
       " 'USC': 'usc',\n",
       " 'Tennessee': 'tennessee',\n",
       " 'Villanova': 'villanova',\n",
       " 'California': 'california',\n",
       " 'Georgetown': 'georgetown',\n",
       " 'Alabama': 'alabama',\n",
       " 'Houston': 'houston',\n",
       " 'Arizona State': 'arizona_state',\n",
       " 'Georgia Tech': 'georgia_tech',\n",
       " 'Louisville': 'louisville',\n",
       " 'Marquette': 'marquette',\n",
       " 'DePaul': 'depaul',\n",
       " 'Duke': 'duke',\n",
       " 'Texas Tech': 'texas_tech',\n",
       " 'Utah': 'utah',\n",
       " 'College of Charleston': 'college_of_charleston',\n",
       " 'Arkansas': 'arkansas',\n",
       " 'St. Bonaventure': 'st._bonaventure',\n",
       " 'Lebanon Valley': 'lebanon_valley',\n",
       " 'Syracuse': 'syracuse',\n",
       " 'Mississippi': 'mississippi',\n",
       " 'North Carolina': 'north_carolina',\n",
       " 'Nevada-Las Vegas': 'nevada-las_vegas',\n",
       " 'Oklahoma': 'oklahoma',\n",
       " 'Hawaii': 'hawaii',\n",
       " 'North Carolina State': 'north_carolina_state',\n",
       " 'Tennessee State': 'tennessee_state',\n",
       " 'Bradley': 'bradley',\n",
       " 'Missouri': 'missouri',\n",
       " 'Louisiana State': 'louisiana_state',\n",
       " 'Creighton': 'creighton',\n",
       " 'Wichita State': 'wichita_state',\n",
       " 'Bowling Green': 'bowling_green',\n",
       " 'Texas-El Paso': 'texas-el_paso',\n",
       " 'Pfeiffer': 'pfeiffer',\n",
       " 'Nevada': 'nevada',\n",
       " 'Mississippi State': 'mississippi_state',\n",
       " 'Washington State': 'washington_state',\n",
       " 'UCLA': 'ucla',\n",
       " 'Cincinnati': 'cincinnati',\n",
       " 'Southern Illinois': 'southern_illinois',\n",
       " 'Providence': 'providence',\n",
       " 'Texas': 'texas',\n",
       " 'Southern': 'southern',\n",
       " 'Western Michigan': 'western_michigan',\n",
       " 'Notre Dame': 'notre_dame',\n",
       " 'Tulsa': 'tulsa',\n",
       " 'Virginia Union': 'virginia_union',\n",
       " 'Michigan': 'michigan',\n",
       " 'Boston College': 'boston_college',\n",
       " \"St. John's (NY)\": \"st._john's_(ny)\",\n",
       " 'Virginia Tech': 'virginia_tech',\n",
       " 'Missouri State': 'missouri_state',\n",
       " 'East Carolina': 'east_carolina',\n",
       " 'Morehead State': 'morehead_state',\n",
       " 'Cal State-Fullerton': 'cal_state-fullerton',\n",
       " 'Minnesota': 'minnesota',\n",
       " 'Washington': 'washington',\n",
       " 'Ball State': 'ball_state',\n",
       " 'Brigham Young': 'brigham_young',\n",
       " 'Ohio': 'ohio',\n",
       " 'Davidson': 'davidson',\n",
       " 'Rice': 'rice',\n",
       " 'Augustana (SD)': 'augustana_(sd)',\n",
       " 'Illinois': 'illinois',\n",
       " 'Dayton': 'dayton',\n",
       " 'Southern California': 'southern_california',\n",
       " 'Baylor': 'baylor',\n",
       " 'Virginia Commonwealth': 'virginia_commonwealth',\n",
       " 'Oklahoma State': 'oklahoma_state',\n",
       " 'Virginia': 'virginia',\n",
       " 'Iowa State': 'iowa_state',\n",
       " 'Valparaiso': 'valparaiso',\n",
       " 'Long Beach State': 'long_beach_state',\n",
       " 'Austin Peay': 'austin_peay',\n",
       " 'Ohio State': 'ohio_state',\n",
       " 'Lehigh': 'lehigh',\n",
       " 'Old Dominion': 'old_dominion',\n",
       " 'Penn State': 'penn_state',\n",
       " 'Murray State': 'murray_state',\n",
       " 'Eastern Michigan': 'eastern_michigan',\n",
       " 'Alabama-Birmingham': 'alabama-birmingham',\n",
       " 'Florida International': 'florida_international',\n",
       " 'Kansas State': 'kansas_state',\n",
       " 'Toledo': 'toledo',\n",
       " 'Cleveland State': 'cleveland_state',\n",
       " 'Hofstra': 'hofstra',\n",
       " 'Albany State (GA)': 'albany_state_(ga)',\n",
       " 'Long Island-Brooklyn': 'long_island-brooklyn',\n",
       " 'Blinn': 'blinn',\n",
       " 'Boise State': 'boise_state',\n",
       " 'Yale': 'yale',\n",
       " 'Fresno State': 'fresno_state',\n",
       " 'Central Michigan': 'central_michigan',\n",
       " 'Western Kentucky': 'western_kentucky',\n",
       " 'Clemson': 'clemson',\n",
       " 'South Florida': 'south_florida',\n",
       " 'Southern Mississippi': 'southern_mississippi',\n",
       " 'Central Connecticut State': 'central_connecticut_state',\n",
       " 'Rhode Island': 'rhode_island',\n",
       " 'Vanderbilt': 'vanderbilt',\n",
       " 'Weber State': 'weber_state',\n",
       " 'Georgia': 'georgia',\n",
       " 'Northern Arizona': 'northern_arizona',\n",
       " 'Saint Vincent': 'saint_vincent',\n",
       " 'Fayetteville State': 'fayetteville_state',\n",
       " 'Navy': 'navy',\n",
       " 'Nevada-Reno': 'nevada-reno',\n",
       " \"Saint Joseph's\": \"saint_joseph's\",\n",
       " 'North Carolina-Charlotte': 'north_carolina-charlotte',\n",
       " 'Miami (FL)': 'miami_(fl)',\n",
       " 'Pacific': 'pacific',\n",
       " 'Fairfield': 'fairfield',\n",
       " 'Southeastern Oklahoma State': 'southeastern_oklahoma_state',\n",
       " 'Arkansas-Little Rock': 'arkansas-little_rock',\n",
       " 'Duquesne': 'duquesne',\n",
       " 'Detroit Mercy': 'detroit_mercy',\n",
       " 'Utah State': 'utah_state',\n",
       " 'Augsburg': 'augsburg',\n",
       " 'Texas-San Antonio': 'texas-san_antonio',\n",
       " 'West Virginia': 'west_virginia',\n",
       " 'Hampton': 'hampton',\n",
       " 'Northern Illinois': 'northern_illinois',\n",
       " 'Southeastern Illinois': 'southeastern_illinois',\n",
       " 'La Salle': 'la_salle',\n",
       " 'Central Oklahoma': 'central_oklahoma',\n",
       " 'Siena': 'siena',\n",
       " 'Louisiana-Lafayette': 'louisiana-lafayette',\n",
       " 'Delaware State': 'delaware_state',\n",
       " 'Midwestern State': 'midwestern_state',\n",
       " 'Wyoming': 'wyoming',\n",
       " 'Nebraska': 'nebraska',\n",
       " 'Indian Hills Community College': 'indian_hills_community_college',\n",
       " 'New Orleans': 'new_orleans',\n",
       " 'Auburn-Montgomery': 'auburn-montgomery',\n",
       " 'Northwestern': 'northwestern',\n",
       " 'Shaw': 'shaw',\n",
       " 'Western Carolina': 'western_carolina',\n",
       " 'Augusta State': 'augusta_state',\n",
       " 'Saint Rose': 'saint_rose',\n",
       " 'Massachusetts': 'massachusetts',\n",
       " 'Towson': 'towson',\n",
       " 'Northwestern Oklahoma': 'northwestern_oklahoma',\n",
       " 'Indiana Purdue-Indianapolis': 'indiana_purdue-indianapolis',\n",
       " 'Tennessee-Chattanooga': 'tennessee-chattanooga',\n",
       " 'Nicholls State': 'nicholls_state',\n",
       " 'Butler': 'butler',\n",
       " 'Yonsei (KOR)': 'yonsei_(kor)',\n",
       " 'Rutgers': 'rutgers',\n",
       " 'Morehouse': 'morehouse',\n",
       " 'Marshall': 'marshall',\n",
       " 'Oral Roberts': 'oral_roberts',\n",
       " \"St. Mary's (TX)\": \"st._mary's_(tx)\",\n",
       " 'William Paterson': 'william_paterson',\n",
       " 'Grand Canyon': 'grand_canyon',\n",
       " 'Tulane': 'tulane',\n",
       " 'Belmont': 'belmont',\n",
       " 'Portland State': 'portland_state',\n",
       " 'Pennsylvania': 'pennsylvania',\n",
       " 'Miami (OH)': 'miami_(oh)',\n",
       " 'Cal State-San Bernardino': 'cal_state-san_bernardino',\n",
       " 'Northeastern': 'northeastern',\n",
       " 'San Diego State': 'san_diego_state',\n",
       " 'Meridian Community College': 'meridian_community_college',\n",
       " 'South Carolina': 'south_carolina',\n",
       " 'George Mason': 'george_mason',\n",
       " 'Colorado State': 'colorado_state',\n",
       " 'Rider': 'rider',\n",
       " 'Cornell': 'cornell',\n",
       " 'Texas State': 'texas_state',\n",
       " 'Wisconsin-Green Bay': 'wisconsin-green_bay',\n",
       " 'Harvard': 'harvard',\n",
       " 'Delta State': 'delta_state',\n",
       " 'Central Florida': 'central_florida',\n",
       " 'North Dakota': 'north_dakota',\n",
       " 'Florida A&M': 'florida_a&m',\n",
       " 'Longwood': 'longwood',\n",
       " 'Southern Methodist': 'southern_methodist',\n",
       " 'McNeese State': 'mcneese_state',\n",
       " 'Kent State': 'kent_state',\n",
       " 'Richmond': 'richmond',\n",
       " 'New Mexico State': 'new_mexico_state',\n",
       " 'California-Berkeley': 'california-berkeley',\n",
       " 'Wingate': 'wingate',\n",
       " 'Idaho': 'idaho',\n",
       " 'Louisiana Tech': 'louisiana_tech',\n",
       " 'Cal State-Bakersfield': 'cal_state-bakersfield',\n",
       " 'Northwest Florida State': 'northwest_florida_state',\n",
       " 'Oakland': 'oakland',\n",
       " 'Eastern Illinois': 'eastern_illinois',\n",
       " 'Tennessee Tech': 'tennessee_tech',\n",
       " 'Le Moyne': 'le_moyne',\n",
       " 'Texas Christian': 'texas_christian',\n",
       " 'Norfolk State': 'norfolk_state',\n",
       " 'Saint Louis': 'saint_louis',\n",
       " 'Montana': 'montana',\n",
       " 'Centenary (LA)': 'centenary_(la)',\n",
       " 'Coppin State': 'coppin_state',\n",
       " 'Tennessee-Martin': 'tennessee-martin',\n",
       " 'Jackson State': 'jackson_state',\n",
       " 'Mt. San Antonio': 'mt._san_antonio',\n",
       " 'Stetson': 'stetson',\n",
       " 'Manhattan': 'manhattan',\n",
       " 'Westchester CC NY': 'westchester_cc_ny',\n",
       " 'Drexel': 'drexel',\n",
       " 'American International': 'american_international',\n",
       " 'Santa Clara': 'santa_clara',\n",
       " 'Seward County Community College': 'seward_county_community_college',\n",
       " 'North Carolina-Wilmington': 'north_carolina-wilmington',\n",
       " \"Saint Mary's (CA)\": \"saint_mary's_(ca)\",\n",
       " 'Ohio U.': 'ohio_u.',\n",
       " 'Georgia Southern': 'georgia_southern',\n",
       " 'Alabama A&M': 'alabama_a&m',\n",
       " 'George Washington': 'george_washington',\n",
       " 'Bucknell': 'bucknell',\n",
       " \"Master's\": \"master's\",\n",
       " 'Louisiana-Monroe': 'louisiana-monroe',\n",
       " 'West Florida': 'west_florida',\n",
       " 'Montevallo': 'montevallo',\n",
       " 'South Dakota State': 'south_dakota_state',\n",
       " 'Midland': 'midland',\n",
       " 'Venezuela': 'venezuela',\n",
       " 'Robert Morris (IL)': 'robert_morris_(il)',\n",
       " 'Liberty': 'liberty',\n",
       " 'Portland': 'portland',\n",
       " 'Central State (OH)': 'central_state_(oh)',\n",
       " 'Northeast Mississippi Community College': 'northeast_mississippi_community_college',\n",
       " 'Georgia State': 'georgia_state',\n",
       " 'UNLV': 'unlv',\n",
       " 'Virginia Military Institute': 'virginia_military_institute',\n",
       " 'Thomas More': 'thomas_more',\n",
       " 'Marist': 'marist',\n",
       " 'Walsh': 'walsh',\n",
       " 'Eastern Washington': 'eastern_washington',\n",
       " 'Utah Valley': 'utah_valley',\n",
       " 'Mercer': 'mercer',\n",
       " 'California-Irvine': 'california-irvine',\n",
       " 'Iona': 'iona',\n",
       " 'Central Arkansas': 'central_arkansas',\n",
       " 'West Virginia Tech': 'west_virginia_tech',\n",
       " 'Trinity Valley Community College': 'trinity_valley_community_college',\n",
       " 'Miami (Fla.)': 'miami_(fla.)',\n",
       " 'Fordham': 'fordham',\n",
       " 'Butler Community College': 'butler_community_college',\n",
       " 'Princeton': 'princeton',\n",
       " 'San Jose State': 'san_jose_state',\n",
       " 'Wisconsin-Stevens Point': 'wisconsin-stevens_point',\n",
       " 'Missouri-Kansas City': 'missouri-kansas_city',\n",
       " 'North Texas': 'north_texas',\n",
       " 'South Carolina State': 'south_carolina_state',\n",
       " 'Northwestern State': 'northwestern_state',\n",
       " 'Hartford': 'hartford',\n",
       " 'Wright State': 'wright_state',\n",
       " 'Jacksonville State': 'jacksonville_state',\n",
       " 'Brigham Young-Hawaii': 'brigham_young-hawaii'}"
      ]
     },
     "execution_count": 175,
     "metadata": {},
     "output_type": "execute_result"
    }
   ],
   "source": [
    "colleges_map"
   ]
  },
  {
   "cell_type": "code",
   "execution_count": 176,
   "metadata": {},
   "outputs": [
    {
     "data": {
      "text/html": [
       "<div>\n",
       "<style scoped>\n",
       "    .dataframe tbody tr th:only-of-type {\n",
       "        vertical-align: middle;\n",
       "    }\n",
       "\n",
       "    .dataframe tbody tr th {\n",
       "        vertical-align: top;\n",
       "    }\n",
       "\n",
       "    .dataframe thead th {\n",
       "        text-align: right;\n",
       "    }\n",
       "</style>\n",
       "<table border=\"1\" class=\"dataframe\">\n",
       "  <thead>\n",
       "    <tr style=\"text-align: right;\">\n",
       "      <th></th>\n",
       "      <th>oregon_state</th>\n",
       "      <th>arizona</th>\n",
       "      <th>indiana</th>\n",
       "      <th>purdue</th>\n",
       "      <th>connecticut</th>\n",
       "      <th>oregon</th>\n",
       "      <th>pittsburgh</th>\n",
       "      <th>kentucky</th>\n",
       "      <th>temple</th>\n",
       "      <th>kansas</th>\n",
       "      <th>...</th>\n",
       "      <th>san_jose_state</th>\n",
       "      <th>wisconsin-stevens_point</th>\n",
       "      <th>missouri-kansas_city</th>\n",
       "      <th>north_texas</th>\n",
       "      <th>south_carolina_state</th>\n",
       "      <th>northwestern_state</th>\n",
       "      <th>hartford</th>\n",
       "      <th>wright_state</th>\n",
       "      <th>jacksonville_state</th>\n",
       "      <th>brigham_young-hawaii</th>\n",
       "    </tr>\n",
       "  </thead>\n",
       "  <tbody>\n",
       "    <tr>\n",
       "      <th>299</th>\n",
       "      <td>1</td>\n",
       "      <td>0</td>\n",
       "      <td>0</td>\n",
       "      <td>0</td>\n",
       "      <td>0</td>\n",
       "      <td>0</td>\n",
       "      <td>0</td>\n",
       "      <td>0</td>\n",
       "      <td>0</td>\n",
       "      <td>0</td>\n",
       "      <td>...</td>\n",
       "      <td>0</td>\n",
       "      <td>0</td>\n",
       "      <td>0</td>\n",
       "      <td>0</td>\n",
       "      <td>0</td>\n",
       "      <td>0</td>\n",
       "      <td>0</td>\n",
       "      <td>0</td>\n",
       "      <td>0</td>\n",
       "      <td>0</td>\n",
       "    </tr>\n",
       "    <tr>\n",
       "      <th>1426</th>\n",
       "      <td>0</td>\n",
       "      <td>1</td>\n",
       "      <td>0</td>\n",
       "      <td>0</td>\n",
       "      <td>0</td>\n",
       "      <td>0</td>\n",
       "      <td>0</td>\n",
       "      <td>0</td>\n",
       "      <td>0</td>\n",
       "      <td>0</td>\n",
       "      <td>...</td>\n",
       "      <td>0</td>\n",
       "      <td>0</td>\n",
       "      <td>0</td>\n",
       "      <td>0</td>\n",
       "      <td>0</td>\n",
       "      <td>0</td>\n",
       "      <td>0</td>\n",
       "      <td>0</td>\n",
       "      <td>0</td>\n",
       "      <td>0</td>\n",
       "    </tr>\n",
       "    <tr>\n",
       "      <th>1863</th>\n",
       "      <td>0</td>\n",
       "      <td>0</td>\n",
       "      <td>1</td>\n",
       "      <td>0</td>\n",
       "      <td>0</td>\n",
       "      <td>0</td>\n",
       "      <td>0</td>\n",
       "      <td>0</td>\n",
       "      <td>0</td>\n",
       "      <td>0</td>\n",
       "      <td>...</td>\n",
       "      <td>0</td>\n",
       "      <td>0</td>\n",
       "      <td>0</td>\n",
       "      <td>0</td>\n",
       "      <td>0</td>\n",
       "      <td>0</td>\n",
       "      <td>0</td>\n",
       "      <td>0</td>\n",
       "      <td>0</td>\n",
       "      <td>0</td>\n",
       "    </tr>\n",
       "    <tr>\n",
       "      <th>9396</th>\n",
       "      <td>0</td>\n",
       "      <td>0</td>\n",
       "      <td>0</td>\n",
       "      <td>1</td>\n",
       "      <td>0</td>\n",
       "      <td>0</td>\n",
       "      <td>0</td>\n",
       "      <td>0</td>\n",
       "      <td>0</td>\n",
       "      <td>0</td>\n",
       "      <td>...</td>\n",
       "      <td>0</td>\n",
       "      <td>0</td>\n",
       "      <td>0</td>\n",
       "      <td>0</td>\n",
       "      <td>0</td>\n",
       "      <td>0</td>\n",
       "      <td>0</td>\n",
       "      <td>0</td>\n",
       "      <td>0</td>\n",
       "      <td>0</td>\n",
       "    </tr>\n",
       "    <tr>\n",
       "      <th>5923</th>\n",
       "      <td>0</td>\n",
       "      <td>0</td>\n",
       "      <td>0</td>\n",
       "      <td>0</td>\n",
       "      <td>1</td>\n",
       "      <td>0</td>\n",
       "      <td>0</td>\n",
       "      <td>0</td>\n",
       "      <td>0</td>\n",
       "      <td>0</td>\n",
       "      <td>...</td>\n",
       "      <td>0</td>\n",
       "      <td>0</td>\n",
       "      <td>0</td>\n",
       "      <td>0</td>\n",
       "      <td>0</td>\n",
       "      <td>0</td>\n",
       "      <td>0</td>\n",
       "      <td>0</td>\n",
       "      <td>0</td>\n",
       "      <td>0</td>\n",
       "    </tr>\n",
       "  </tbody>\n",
       "</table>\n",
       "<p>5 rows × 286 columns</p>\n",
       "</div>"
      ],
      "text/plain": [
       "      oregon_state  arizona  indiana  purdue  connecticut  oregon  pittsburgh  \\\n",
       "299              1        0        0       0            0       0           0   \n",
       "1426             0        1        0       0            0       0           0   \n",
       "1863             0        0        1       0            0       0           0   \n",
       "9396             0        0        0       1            0       0           0   \n",
       "5923             0        0        0       0            1       0           0   \n",
       "\n",
       "      kentucky  temple  kansas  ...  san_jose_state  wisconsin-stevens_point  \\\n",
       "299          0       0       0  ...               0                        0   \n",
       "1426         0       0       0  ...               0                        0   \n",
       "1863         0       0       0  ...               0                        0   \n",
       "9396         0       0       0  ...               0                        0   \n",
       "5923         0       0       0  ...               0                        0   \n",
       "\n",
       "      missouri-kansas_city  north_texas  south_carolina_state  \\\n",
       "299                      0            0                     0   \n",
       "1426                     0            0                     0   \n",
       "1863                     0            0                     0   \n",
       "9396                     0            0                     0   \n",
       "5923                     0            0                     0   \n",
       "\n",
       "      northwestern_state  hartford  wright_state  jacksonville_state  \\\n",
       "299                    0         0             0                   0   \n",
       "1426                   0         0             0                   0   \n",
       "1863                   0         0             0                   0   \n",
       "9396                   0         0             0                   0   \n",
       "5923                   0         0             0                   0   \n",
       "\n",
       "      brigham_young-hawaii  \n",
       "299                      0  \n",
       "1426                     0  \n",
       "1863                     0  \n",
       "9396                     0  \n",
       "5923                     0  \n",
       "\n",
       "[5 rows x 286 columns]"
      ]
     },
     "execution_count": 176,
     "metadata": {},
     "output_type": "execute_result"
    }
   ],
   "source": [
    "df[list(colleges_map.values())].head()"
   ]
  },
  {
   "cell_type": "markdown",
   "metadata": {},
   "source": [
    "Tomando como referência os principais atributos que definimos ao explorar a diferença entre os dados dos jogadores não draftados e os draftados temos as seguintes colunas."
   ]
  },
  {
   "cell_type": "code",
   "execution_count": 177,
   "metadata": {},
   "outputs": [
    {
     "data": {
      "text/plain": [
       "['player_height', 'player_weight', 'gp', 'pts', 'reb', 'ast', 'usg_pct']"
      ]
     },
     "execution_count": 177,
     "metadata": {},
     "output_type": "execute_result"
    }
   ],
   "source": [
    "scout_attr"
   ]
  },
  {
   "cell_type": "markdown",
   "metadata": {},
   "source": [
    "Utilizaremos uma lista contendo os dados dos colleges via One-Hot e os scouts de cada jogador para realizar uma classificação da categoria *drafted*(binária)."
   ]
  },
  {
   "cell_type": "code",
   "execution_count": 178,
   "metadata": {},
   "outputs": [
    {
     "data": {
      "text/plain": [
       "['player_height',\n",
       " 'player_weight',\n",
       " 'gp',\n",
       " 'pts',\n",
       " 'reb',\n",
       " 'ast',\n",
       " 'usg_pct',\n",
       " 'oregon_state',\n",
       " 'arizona',\n",
       " 'indiana',\n",
       " 'purdue',\n",
       " 'connecticut',\n",
       " 'oregon',\n",
       " 'pittsburgh',\n",
       " 'kentucky',\n",
       " 'temple',\n",
       " 'kansas',\n",
       " 'xavier',\n",
       " 'iowa',\n",
       " 'texas_a&m',\n",
       " 'auburn',\n",
       " 'stanford',\n",
       " 'gonzaga',\n",
       " 'colgate',\n",
       " 'memphis',\n",
       " 'michigan_state',\n",
       " 'lamar',\n",
       " 'seton_hall',\n",
       " 'florida',\n",
       " 'florida_state',\n",
       " 'wake_forest',\n",
       " 'california-santa_barbara',\n",
       " 'wisconsin',\n",
       " 'colorado',\n",
       " 'barton_community_college',\n",
       " 'pepperdine',\n",
       " 'new_mexico',\n",
       " 'maryland',\n",
       " 'usc',\n",
       " 'tennessee',\n",
       " 'villanova',\n",
       " 'california',\n",
       " 'georgetown',\n",
       " 'alabama',\n",
       " 'houston',\n",
       " 'arizona_state',\n",
       " 'georgia_tech',\n",
       " 'louisville',\n",
       " 'marquette',\n",
       " 'depaul',\n",
       " 'duke',\n",
       " 'texas_tech',\n",
       " 'utah',\n",
       " 'college_of_charleston',\n",
       " 'arkansas',\n",
       " 'st._bonaventure',\n",
       " 'lebanon_valley',\n",
       " 'syracuse',\n",
       " 'mississippi',\n",
       " 'north_carolina',\n",
       " 'nevada-las_vegas',\n",
       " 'oklahoma',\n",
       " 'hawaii',\n",
       " 'north_carolina_state',\n",
       " 'tennessee_state',\n",
       " 'bradley',\n",
       " 'missouri',\n",
       " 'louisiana_state',\n",
       " 'creighton',\n",
       " 'wichita_state',\n",
       " 'bowling_green',\n",
       " 'texas-el_paso',\n",
       " 'pfeiffer',\n",
       " 'nevada',\n",
       " 'mississippi_state',\n",
       " 'washington_state',\n",
       " 'ucla',\n",
       " 'cincinnati',\n",
       " 'southern_illinois',\n",
       " 'providence',\n",
       " 'texas',\n",
       " 'southern',\n",
       " 'western_michigan',\n",
       " 'notre_dame',\n",
       " 'tulsa',\n",
       " 'virginia_union',\n",
       " 'michigan',\n",
       " 'boston_college',\n",
       " \"st._john's_(ny)\",\n",
       " 'virginia_tech',\n",
       " 'missouri_state',\n",
       " 'east_carolina',\n",
       " 'morehead_state',\n",
       " 'cal_state-fullerton',\n",
       " 'minnesota',\n",
       " 'washington',\n",
       " 'ball_state',\n",
       " 'brigham_young',\n",
       " 'ohio',\n",
       " 'davidson',\n",
       " 'rice',\n",
       " 'augustana_(sd)',\n",
       " 'illinois',\n",
       " 'dayton',\n",
       " 'southern_california',\n",
       " 'baylor',\n",
       " 'virginia_commonwealth',\n",
       " 'oklahoma_state',\n",
       " 'virginia',\n",
       " 'iowa_state',\n",
       " 'valparaiso',\n",
       " 'long_beach_state',\n",
       " 'austin_peay',\n",
       " 'ohio_state',\n",
       " 'lehigh',\n",
       " 'old_dominion',\n",
       " 'penn_state',\n",
       " 'murray_state',\n",
       " 'eastern_michigan',\n",
       " 'alabama-birmingham',\n",
       " 'florida_international',\n",
       " 'kansas_state',\n",
       " 'toledo',\n",
       " 'cleveland_state',\n",
       " 'hofstra',\n",
       " 'albany_state_(ga)',\n",
       " 'long_island-brooklyn',\n",
       " 'blinn',\n",
       " 'boise_state',\n",
       " 'yale',\n",
       " 'fresno_state',\n",
       " 'central_michigan',\n",
       " 'western_kentucky',\n",
       " 'clemson',\n",
       " 'south_florida',\n",
       " 'southern_mississippi',\n",
       " 'central_connecticut_state',\n",
       " 'rhode_island',\n",
       " 'vanderbilt',\n",
       " 'weber_state',\n",
       " 'georgia',\n",
       " 'northern_arizona',\n",
       " 'saint_vincent',\n",
       " 'fayetteville_state',\n",
       " 'navy',\n",
       " 'nevada-reno',\n",
       " \"saint_joseph's\",\n",
       " 'north_carolina-charlotte',\n",
       " 'miami_(fl)',\n",
       " 'pacific',\n",
       " 'fairfield',\n",
       " 'southeastern_oklahoma_state',\n",
       " 'arkansas-little_rock',\n",
       " 'duquesne',\n",
       " 'detroit_mercy',\n",
       " 'utah_state',\n",
       " 'augsburg',\n",
       " 'texas-san_antonio',\n",
       " 'west_virginia',\n",
       " 'hampton',\n",
       " 'northern_illinois',\n",
       " 'southeastern_illinois',\n",
       " 'la_salle',\n",
       " 'central_oklahoma',\n",
       " 'siena',\n",
       " 'louisiana-lafayette',\n",
       " 'delaware_state',\n",
       " 'midwestern_state',\n",
       " 'wyoming',\n",
       " 'nebraska',\n",
       " 'indian_hills_community_college',\n",
       " 'new_orleans',\n",
       " 'auburn-montgomery',\n",
       " 'northwestern',\n",
       " 'shaw',\n",
       " 'western_carolina',\n",
       " 'augusta_state',\n",
       " 'saint_rose',\n",
       " 'massachusetts',\n",
       " 'towson',\n",
       " 'northwestern_oklahoma',\n",
       " 'indiana_purdue-indianapolis',\n",
       " 'tennessee-chattanooga',\n",
       " 'nicholls_state',\n",
       " 'butler',\n",
       " 'yonsei_(kor)',\n",
       " 'rutgers',\n",
       " 'morehouse',\n",
       " 'marshall',\n",
       " 'oral_roberts',\n",
       " \"st._mary's_(tx)\",\n",
       " 'william_paterson',\n",
       " 'grand_canyon',\n",
       " 'tulane',\n",
       " 'belmont',\n",
       " 'portland_state',\n",
       " 'pennsylvania',\n",
       " 'miami_(oh)',\n",
       " 'cal_state-san_bernardino',\n",
       " 'northeastern',\n",
       " 'san_diego_state',\n",
       " 'meridian_community_college',\n",
       " 'south_carolina',\n",
       " 'george_mason',\n",
       " 'colorado_state',\n",
       " 'rider',\n",
       " 'cornell',\n",
       " 'texas_state',\n",
       " 'wisconsin-green_bay',\n",
       " 'harvard',\n",
       " 'delta_state',\n",
       " 'central_florida',\n",
       " 'north_dakota',\n",
       " 'florida_a&m',\n",
       " 'longwood',\n",
       " 'southern_methodist',\n",
       " 'mcneese_state',\n",
       " 'kent_state',\n",
       " 'richmond',\n",
       " 'new_mexico_state',\n",
       " 'california-berkeley',\n",
       " 'wingate',\n",
       " 'idaho',\n",
       " 'louisiana_tech',\n",
       " 'cal_state-bakersfield',\n",
       " 'northwest_florida_state',\n",
       " 'oakland',\n",
       " 'eastern_illinois',\n",
       " 'tennessee_tech',\n",
       " 'le_moyne',\n",
       " 'texas_christian',\n",
       " 'norfolk_state',\n",
       " 'saint_louis',\n",
       " 'montana',\n",
       " 'centenary_(la)',\n",
       " 'coppin_state',\n",
       " 'tennessee-martin',\n",
       " 'jackson_state',\n",
       " 'mt._san_antonio',\n",
       " 'stetson',\n",
       " 'manhattan',\n",
       " 'westchester_cc_ny',\n",
       " 'drexel',\n",
       " 'american_international',\n",
       " 'santa_clara',\n",
       " 'seward_county_community_college',\n",
       " 'north_carolina-wilmington',\n",
       " \"saint_mary's_(ca)\",\n",
       " 'ohio_u.',\n",
       " 'georgia_southern',\n",
       " 'alabama_a&m',\n",
       " 'george_washington',\n",
       " 'bucknell',\n",
       " \"master's\",\n",
       " 'louisiana-monroe',\n",
       " 'west_florida',\n",
       " 'montevallo',\n",
       " 'south_dakota_state',\n",
       " 'midland',\n",
       " 'venezuela',\n",
       " 'robert_morris_(il)',\n",
       " 'liberty',\n",
       " 'portland',\n",
       " 'central_state_(oh)',\n",
       " 'northeast_mississippi_community_college',\n",
       " 'georgia_state',\n",
       " 'unlv',\n",
       " 'virginia_military_institute',\n",
       " 'thomas_more',\n",
       " 'marist',\n",
       " 'walsh',\n",
       " 'eastern_washington',\n",
       " 'utah_valley',\n",
       " 'mercer',\n",
       " 'california-irvine',\n",
       " 'iona',\n",
       " 'central_arkansas',\n",
       " 'west_virginia_tech',\n",
       " 'trinity_valley_community_college',\n",
       " 'miami_(fla.)',\n",
       " 'fordham',\n",
       " 'butler_community_college',\n",
       " 'princeton',\n",
       " 'san_jose_state',\n",
       " 'wisconsin-stevens_point',\n",
       " 'missouri-kansas_city',\n",
       " 'north_texas',\n",
       " 'south_carolina_state',\n",
       " 'northwestern_state',\n",
       " 'hartford',\n",
       " 'wright_state',\n",
       " 'jacksonville_state',\n",
       " 'brigham_young-hawaii']"
      ]
     },
     "execution_count": 178,
     "metadata": {},
     "output_type": "execute_result"
    }
   ],
   "source": [
    "Y = ['drafted']\n",
    "X = scout_attr + list(colleges_map.values())\n",
    "X"
   ]
  },
  {
   "cell_type": "code",
   "execution_count": 179,
   "metadata": {},
   "outputs": [
    {
     "name": "stderr",
     "output_type": "stream",
     "text": [
      "/opt/conda/lib/python3.6/site-packages/sklearn/utils/validation.py:724: DataConversionWarning: A column-vector y was passed when a 1d array was expected. Please change the shape of y to (n_samples, ), for example using ravel().\n",
      "  y = column_or_1d(y, warn=True)\n",
      "/opt/conda/lib/python3.6/site-packages/sklearn/linear_model/logistic.py:947: ConvergenceWarning: lbfgs failed to converge. Increase the number of iterations.\n",
      "  \"of iterations.\", ConvergenceWarning)\n"
     ]
    }
   ],
   "source": [
    "from sklearn.linear_model import LogisticRegression\n",
    "from sklearn.model_selection import train_test_split\n",
    "\n",
    "# Alguns parâmetros escolhidos serão justificados\n",
    "# tol 0.0001 => Utilizaremos uma toleância não tão baixa, pois nesse caso pode-se exigir que o modelo vicie-se na etapa de treinamento\n",
    "# C 0.5 => É uma constante de regularização, quanto menor o valor de C, mais regularizado é o modelo. Então, como temos muitos parâmetros, desejamos uma simplificação\n",
    "#          do modelo, e para isso usaremos um valor baixo de C.\n",
    "# solver 'lbfgs' => algoritmo de regularização utilizado\n",
    "# max_iter 1000 => colocaremos um número máximo de iterações da regularização não tão alto, pois queremos um modelo que execute rapidamente, apesar de que uma fraca convergência\n",
    "#          resulta em um modelo não tão bom.\n",
    "lr_model = LogisticRegression(tol=0.001, C=0.5, solver='lbfgs', max_iter=1000)\n",
    "\n",
    "# Separando a base de dados em treinamento e teste\n",
    "X_train, X_test, Y_train, Y_test =  train_test_split(df[X], df[Y] , test_size=0.2, random_state=42)\n",
    "\n",
    "# treinando o modelo\n",
    "lr_model = lr_model.fit(X_train, Y_train)"
   ]
  },
  {
   "cell_type": "markdown",
   "metadata": {},
   "source": [
    "Agora, utilizaremos o modelo criado para predizer os casos de teste"
   ]
  },
  {
   "cell_type": "code",
   "execution_count": 180,
   "metadata": {},
   "outputs": [
    {
     "data": {
      "text/plain": [
       "array([1, 1, 0, 1, 0, 1, 1, 0, 1, 1, 1, 1, 1, 1, 1, 1, 1, 1, 1, 1, 1, 1,\n",
       "       1, 1, 1, 1, 1, 0, 1, 1, 1, 1, 0, 1, 1, 1, 1, 1, 0, 1, 1, 1, 1, 1,\n",
       "       0, 1, 0, 1, 1, 1, 1, 1, 1, 0, 0, 1, 1, 0, 1, 1, 1, 0, 1, 1, 1, 0,\n",
       "       1, 1, 0, 0, 1, 1, 1, 1, 1, 1, 1, 1, 0, 1, 0, 1, 1, 1, 1, 1, 1, 1,\n",
       "       1, 1, 1, 1, 1, 1, 1, 1, 1, 1, 1, 1, 1, 1, 1, 1, 1, 0, 1, 1, 1, 0,\n",
       "       1, 1, 1, 1, 1, 1, 0, 1, 0, 1, 1, 1, 1, 0, 1, 1, 1, 1, 1, 0, 1, 1,\n",
       "       0, 1, 0, 1, 1, 1, 0, 1, 0, 1, 1, 1, 1, 0, 1, 0, 1, 1, 1, 1, 1, 1,\n",
       "       1, 1, 1, 1, 1, 1, 1, 1, 1, 1, 1, 0, 0, 0, 1, 1, 1, 1, 1, 1, 1, 0,\n",
       "       1, 1, 1, 1, 1, 1, 0, 0, 1, 1, 1, 1, 1, 1, 1, 1, 1, 1, 1, 0, 1, 0,\n",
       "       1, 1, 1, 1, 1, 1, 1, 1, 1, 1, 1, 1, 1, 1, 1, 1, 1, 1, 1, 0, 1, 1,\n",
       "       1, 1, 1, 1, 1, 1, 1, 1, 1, 1, 1, 1, 1, 1, 1, 1, 1, 1, 0, 1, 0, 0,\n",
       "       0, 1, 1, 1, 1, 1, 1, 1, 0, 1, 1, 1, 1, 1, 1, 1, 1, 1, 1, 1, 1, 1,\n",
       "       1, 1, 1, 1, 1, 1, 1, 1, 0, 0, 1, 0, 1, 1, 1, 1, 1, 1, 0, 0, 1, 1,\n",
       "       1, 1, 1, 1, 1, 0, 0, 1, 1, 1, 1, 1, 0, 1, 1, 1, 1, 1, 1, 0, 1, 1,\n",
       "       0, 1, 1, 1, 1, 1, 1, 1, 1, 1, 1, 0, 1, 0, 0, 1, 1, 1, 1, 1, 1])"
      ]
     },
     "execution_count": 180,
     "metadata": {},
     "output_type": "execute_result"
    }
   ],
   "source": [
    "lr_result = lr_model.predict(X_test)\n",
    "lr_result"
   ]
  },
  {
   "cell_type": "markdown",
   "metadata": {},
   "source": [
    "Por fim, utilizaremos métricas de qualidade do modelo, comparando o resultado da predição com os resultados de teste. Isso será possível através da análise da quantidade de acertos e erros que o modelo possui."
   ]
  },
  {
   "cell_type": "code",
   "execution_count": 181,
   "metadata": {},
   "outputs": [
    {
     "name": "stdout",
     "output_type": "stream",
     "text": [
      "Precisão\n",
      " -- Não Draftados: 0.5714285714285714 \n",
      " -- Draftados: 0.8021978021978022\n",
      "\n",
      "Recall\n",
      " -- Não Draftados: 0.37209302325581395 \n",
      " -- Draftados: 0.9012345679012346\n",
      "\n",
      "F1\n",
      " -- Não Draftados: 0.45070422535211263 \n",
      " -- Draftados: 0.8488372093023256\n",
      "\n",
      "Support\n",
      " -- Não Draftados: 86 \n",
      " -- Draftados: 243\n"
     ]
    }
   ],
   "source": [
    "from sklearn.metrics import precision_recall_fscore_support\n",
    "\n",
    "lr_precision, lr_recall, lr_f1, lr_support = precision_recall_fscore_support(Y_test.values.T[0], lr_result)\n",
    "\n",
    "print('Precisão\\n', '-- Não Draftados:', lr_precision[0], '\\n -- Draftados:', lr_precision[1])\n",
    "print('\\nRecall\\n', '-- Não Draftados:', lr_recall[0], '\\n -- Draftados:', lr_recall[1])\n",
    "print('\\nF1\\n', '-- Não Draftados:', lr_f1[0], '\\n -- Draftados:', lr_f1[1])\n",
    "print('\\nSupport\\n', '-- Não Draftados:', lr_support[0], '\\n -- Draftados:', lr_support[1])"
   ]
  },
  {
   "cell_type": "code",
   "execution_count": 195,
   "metadata": {},
   "outputs": [
    {
     "name": "stdout",
     "output_type": "stream",
     "text": [
      "[[ 32  54]\n",
      " [ 24 219]]\n"
     ]
    },
    {
     "data": {
      "image/png": "[encoded data removed]",
      "text/plain": [
       "<Figure size 432x288 with 1 Axes>"
      ]
     },
     "metadata": {
      "needs_background": "light"
     },
     "output_type": "display_data"
    }
   ],
   "source": [
    "# plotando a matriz de confusão\n",
    "from sklearn.metrics import confusion_matrix\n",
    "cm = confusion_matrix(Y_test.values.T[0], lr_result)\n",
    "print(cm)\n",
    "\n",
    "\n",
    "plt.imshow(cm, interpolation='nearest', cmap=plt.cm.Blues)\n",
    "plt.title('Matriz de Confusão')\n",
    "tick_marks = np.arange(2)\n",
    "plt.xticks(tick_marks, ['Não Draftados', 'Draftados'], rotation=45)\n",
    "plt.yticks(tick_marks, ['Não Draftados', 'Draftados'])\n",
    "plt.tight_layout()\n",
    "plt.ylabel('Valores reais')\n",
    "plt.xlabel('Valores da predição')\n",
    "plt.show()"
   ]
  },
  {
   "cell_type": "markdown",
   "metadata": {},
   "source": [
    "Observe que o modelo possui uma alta qualidade de acertos para os jogadores draftados, tal fato pode ter como explicação o fato da base de daos possuir um alto número de jogadores draftados e um baixo numero de não draftados. Esse fato pode explicar um enviesamento do modelo por parte dos jogadores draftados, criando uma tendência maior em classificá-los como promissores atletas da NBA. É possível observar a afirmação no quadro seguinte:"
   ]
  },
  {
   "cell_type": "code",
   "execution_count": 182,
   "metadata": {},
   "outputs": [
    {
     "name": "stdout",
     "output_type": "stream",
     "text": [
      "Quantidade de jogadores draftados: 1211\n",
      "Quantidade de jogadores não draftados: 433\n"
     ]
    }
   ],
   "source": [
    "print('Quantidade de jogadores draftados:',df[df['drafted']==1].count()[0])\n",
    "print('Quantidade de jogadores não draftados:',df[df['drafted']!=1].count()[0])"
   ]
  },
  {
   "cell_type": "markdown",
   "metadata": {},
   "source": [
    "Como temos uma classificação baseada em multi parâmetros, é, de certa forma, difícil entender como o modelo funciona. Entretanto faremos testes permutando as categorias (*colleges*) a  fim de observar o comportamento da aprovação dos jogadores por parte das universidades. Tal permutação será realizada com a troca do atributo *college* de cada jogador para que no fim possamos analisar a quantidade de aprovações de cada instituição de ensino, portanto, nesse momento faremo sum teste iterando entre os *colleges*, em cada iteração, todos os jogadores serão inseridos na mesma universidade, e então analisaremos a quantidade de aprovações preditas pelo modelo.\n",
    "\n",
    "Se há uma boa precisão para jogadores aprovados no draft, então tentaremos observar, segundo o modelo, quais as universidade mais aprovam dado que a precisão do modelo é superior a 80%. Nessa análise será possível avaliar se há poucas universidades com altas taxas de aprovação ou não; a resposta obtida será suficiente para argumentar sobre a possibilidade de um futuro atleta, ser beneficiado no draft dada a escolha de determinado *college* no início da sua carreira nas categorias de base do esporte."
   ]
  },
  {
   "cell_type": "code",
   "execution_count": 183,
   "metadata": {},
   "outputs": [
    {
     "name": "stdout",
     "output_type": "stream",
     "text": [
      "{'oregon_state': 291, 'arizona': 318, 'indiana': 312, 'purdue': 319, 'connecticut': 306, 'oregon': 314, 'pittsburgh': 283, 'kentucky': 306, 'temple': 229, 'kansas': 308, 'xavier': 284, 'iowa': 281, 'texas_a&m': 271, 'auburn': 232, 'stanford': 319, 'gonzaga': 211, 'colgate': 279, 'memphis': 271, 'michigan_state': 308, 'lamar': 226, 'seton_hall': 268, 'florida': 274, 'florida_state': 314, 'wake_forest': 289, 'california-santa_barbara': 238, 'wisconsin': 237, 'colorado': 252, 'barton_community_college': 283, 'pepperdine': 212, 'new_mexico': 312, 'maryland': 319, 'usc': 237, 'tennessee': 299, 'villanova': 276, 'california': 303, 'georgetown': 261, 'alabama': 225, 'houston': 181, 'arizona_state': 308, 'georgia_tech': 260, 'louisville': 322, 'marquette': 290, 'depaul': 235, 'duke': 312, 'texas_tech': 247, 'utah': 285, 'college_of_charleston': 292, 'arkansas': 250, 'st._bonaventure': 209, 'lebanon_valley': 271, 'syracuse': 319, 'mississippi': 304, 'north_carolina': 315, 'nevada-las_vegas': 226, 'oklahoma': 320, 'hawaii': 236, 'north_carolina_state': 304, 'tennessee_state': 278, 'bradley': 289, 'missouri': 236, 'louisiana_state': 261, 'creighton': 274, 'wichita_state': 200, 'bowling_green': 275, 'texas-el_paso': 264, 'pfeiffer': 237, 'nevada': 295, 'mississippi_state': 299, 'washington_state': 258, 'ucla': 298, 'cincinnati': 304, 'southern_illinois': 236, 'providence': 319, 'texas': 319, 'southern': 226, 'western_michigan': 212, 'notre_dame': 241, 'tulsa': 263, 'virginia_union': 236, 'michigan': 308, 'boston_college': 319, \"st._john's_(ny)\": 265, 'virginia_tech': 223, 'missouri_state': 271, 'east_carolina': 279, 'morehead_state': 307, 'cal_state-fullerton': 281, 'minnesota': 283, 'washington': 306, 'ball_state': 237, 'brigham_young': 271, 'ohio': 285, 'davidson': 244, 'rice': 303, 'augustana_(sd)': 219, 'illinois': 306, 'dayton': 207, 'southern_california': 261, 'baylor': 323, 'virginia_commonwealth': 225, 'oklahoma_state': 251, 'virginia': 279, 'iowa_state': 301, 'valparaiso': 290, 'long_beach_state': 236, 'austin_peay': 284, 'ohio_state': 277, 'lehigh': 271, 'old_dominion': 249, 'penn_state': 225, 'murray_state': 314, 'eastern_michigan': 252, 'alabama-birmingham': 204, 'florida_international': 226, 'kansas_state': 249, 'toledo': 289, 'cleveland_state': 262, 'hofstra': 282, 'albany_state_(ga)': 295, 'long_island-brooklyn': 239, 'blinn': 233, 'boise_state': 211, 'yale': 272, 'fresno_state': 250, 'central_michigan': 236, 'western_kentucky': 283, 'clemson': 303, 'south_florida': 260, 'southern_mississippi': 226, 'central_connecticut_state': 292, 'rhode_island': 290, 'vanderbilt': 318, 'weber_state': 251, 'georgia': 284, 'northern_arizona': 286, 'saint_vincent': 271, 'fayetteville_state': 225, 'navy': 279, 'nevada-reno': 226, \"saint_joseph's\": 258, 'north_carolina-charlotte': 283, 'miami_(fl)': 305, 'pacific': 262, 'fairfield': 271, 'southeastern_oklahoma_state': 282, 'arkansas-little_rock': 259, 'duquesne': 295, 'detroit_mercy': 283, 'utah_state': 242, 'augsburg': 271, 'texas-san_antonio': 247, 'west_virginia': 262, 'hampton': 259, 'northern_illinois': 282, 'southeastern_illinois': 283, 'la_salle': 263, 'central_oklahoma': 219, 'siena': 271, 'louisiana-lafayette': 247, 'delaware_state': 271, 'midwestern_state': 241, 'wyoming': 220, 'nebraska': 271, 'indian_hills_community_college': 290, 'new_orleans': 305, 'auburn-montgomery': 243, 'northwestern': 271, 'shaw': 271, 'western_carolina': 309, 'augusta_state': 271, 'saint_rose': 235, 'massachusetts': 282, 'towson': 218, 'northwestern_oklahoma': 304, 'indiana_purdue-indianapolis': 271, 'tennessee-chattanooga': 292, 'nicholls_state': 271, 'butler': 274, 'yonsei_(kor)': 271, 'rutgers': 289, 'morehouse': 236, 'marshall': 283, 'oral_roberts': 303, \"st._mary's_(tx)\": 223, 'william_paterson': 250, 'grand_canyon': 233, 'tulane': 241, 'belmont': 243, 'portland_state': 249, 'pennsylvania': 279, 'miami_(oh)': 249, 'cal_state-san_bernardino': 271, 'northeastern': 246, 'san_diego_state': 279, 'meridian_community_college': 271, 'south_carolina': 271, 'george_mason': 256, 'colorado_state': 233, 'rider': 271, 'cornell': 237, 'texas_state': 283, 'wisconsin-green_bay': 295, 'harvard': 241, 'delta_state': 247, 'central_florida': 308, 'north_dakota': 295, 'florida_a&m': 283, 'longwood': 276, 'southern_methodist': 252, 'mcneese_state': 242, 'kent_state': 271, 'richmond': 291, 'new_mexico_state': 220, 'california-berkeley': 271, 'wingate': 219, 'idaho': 298, 'louisiana_tech': 277, 'cal_state-bakersfield': 292, 'northwest_florida_state': 285, 'oakland': 268, 'eastern_illinois': 282, 'tennessee_tech': 295, 'le_moyne': 279, 'texas_christian': 297, 'norfolk_state': 271, 'saint_louis': 237, 'montana': 282, 'centenary_(la)': 260, 'coppin_state': 219, 'tennessee-martin': 295, 'jackson_state': 254, 'mt._san_antonio': 236, 'stetson': 237, 'manhattan': 303, 'westchester_cc_ny': 241, 'drexel': 282, 'american_international': 272, 'santa_clara': 261, 'seward_county_community_college': 299, 'north_carolina-wilmington': 290, \"saint_mary's_(ca)\": 262, 'ohio_u.': 231, 'georgia_southern': 271, 'alabama_a&m': 231, 'george_washington': 240, 'bucknell': 283, \"master's\": 271, 'louisiana-monroe': 290, 'west_florida': 305, 'montevallo': 246, 'south_dakota_state': 282, 'midland': 271, 'venezuela': 221, 'robert_morris_(il)': 245, 'liberty': 241, 'portland': 233, 'central_state_(oh)': 276, 'northeast_mississippi_community_college': 282, 'georgia_state': 285, 'unlv': 279, 'virginia_military_institute': 226, 'thomas_more': 271, 'marist': 271, 'walsh': 284, 'eastern_washington': 279, 'utah_valley': 271, 'mercer': 271, 'california-irvine': 248, 'iona': 252, 'central_arkansas': 271, 'west_virginia_tech': 299, 'trinity_valley_community_college': 271, 'miami_(fla.)': 236, 'fordham': 223, 'butler_community_college': 271, 'princeton': 271, 'san_jose_state': 279, 'wisconsin-stevens_point': 276, 'missouri-kansas_city': 271, 'north_texas': 290, 'south_carolina_state': 228, 'northwestern_state': 247, 'hartford': 271, 'wright_state': 271, 'jacksonville_state': 299, 'brigham_young-hawaii': 262}\n"
     ]
    }
   ],
   "source": [
    "colleges_list = list(colleges_map.values())\n",
    "# 1 - retirar todos os jogadores de suas universidades\n",
    "X_test[colleges_list] = np.zeros(X_test.shape[0]*len(colleges_list)).reshape(X_test.shape[0],len(colleges_list))\n",
    "# 2 - Permutar nos colleges, alterando o parâmetro college de cada jogador\n",
    "drafted_prediction = dict()\n",
    "\n",
    "for college in colleges_list:\n",
    "    X_test[college] = np.ones(X_test.shape[0])\n",
    "    current_result = lr_model.predict(X_test)\n",
    "    drafted_prediction[college] = np.sum(current_result)\n",
    "    X_test[college] = np.zeros(X_test.shape[0])\n",
    "    \n",
    "print(drafted_prediction)"
   ]
  },
  {
   "cell_type": "code",
   "execution_count": 196,
   "metadata": {},
   "outputs": [
    {
     "data": {
      "image/png": "[encoded data removed]",
      "text/plain": [
       "<Figure size 432x288 with 1 Axes>"
      ]
     },
     "metadata": {
      "needs_background": "light"
     },
     "output_type": "display_data"
    }
   ],
   "source": [
    "plt.hist(list(map(lambda x: x[1], sorted(drafted_prediction.items(), key=lambda x: x[1]))))\n",
    "plt.xlabel('Quantidade de aprovações da universidade')\n",
    "plt.ylabel('Quantidade de universidades')\n",
    "plt.show()"
   ]
  },
  {
   "cell_type": "markdown",
   "metadata": {},
   "source": [
    "Com base nas informações obtidas, plotou-se um histograma que demonstra o comportamento da quantidade de jogadores que cada *college* ascendeu à NBA, segundo o modelo. A análise permite demonstrar que há muitas universidade capazes de promovem os jogadores e que existe um comportamento em que não somente as universidades destacadas na análise exploratória, como Kentucky, UCLA, North Carolina e Duke, são resposnáveis pelo alto grau de aprovações. Sendo assim, infere-se que a variável *college* não possui um peso tão alto nas escolhas do draft, uma vez que outras universidades conseguiram aprovar mais jogadores no modelo, muito provavelmente, baseados na qualidade de tais jogadores (*scouts*). \n",
    "\n",
    "A seguir, observe a quantidade de jogadores aprovados pelas 4 universidades destacadas no paragrafo anterior, e note que apesar de ocuparem as primeira colocações na análise exploratória, não ocupam as primeiras posições segundo o modelo. O que agrega fatores de veracidade das hipóteses levantadas neste trabalho."
   ]
  },
  {
   "cell_type": "code",
   "execution_count": 198,
   "metadata": {},
   "outputs": [
    {
     "name": "stdout",
     "output_type": "stream",
     "text": [
      "Kentucky:  306\n",
      "North Carolina: 315\n",
      "UCLA: 298\n",
      "Duke: 312\n"
     ]
    }
   ],
   "source": [
    "print('Kentucky: ', drafted_prediction['kentucky'])\n",
    "print('North Carolina:', drafted_prediction['north_carolina'])\n",
    "print('UCLA:', drafted_prediction['ucla'])\n",
    "print('Duke:', drafted_prediction['duke'])"
   ]
  },
  {
   "cell_type": "code",
   "execution_count": 185,
   "metadata": {},
   "outputs": [
    {
     "name": "stdout",
     "output_type": "stream",
     "text": [
      "306\n"
     ]
    },
    {
     "data": {
      "text/plain": [
       "[('houston', 181),\n",
       " ('wichita_state', 200),\n",
       " ('alabama-birmingham', 204),\n",
       " ('dayton', 207),\n",
       " ('st._bonaventure', 209),\n",
       " ('gonzaga', 211),\n",
       " ('boise_state', 211),\n",
       " ('pepperdine', 212),\n",
       " ('western_michigan', 212),\n",
       " ('towson', 218),\n",
       " ('augustana_(sd)', 219),\n",
       " ('central_oklahoma', 219),\n",
       " ('wingate', 219),\n",
       " ('coppin_state', 219),\n",
       " ('wyoming', 220),\n",
       " ('new_mexico_state', 220),\n",
       " ('venezuela', 221),\n",
       " ('virginia_tech', 223),\n",
       " (\"st._mary's_(tx)\", 223),\n",
       " ('fordham', 223),\n",
       " ('alabama', 225),\n",
       " ('virginia_commonwealth', 225),\n",
       " ('penn_state', 225),\n",
       " ('fayetteville_state', 225),\n",
       " ('lamar', 226),\n",
       " ('nevada-las_vegas', 226),\n",
       " ('southern', 226),\n",
       " ('florida_international', 226),\n",
       " ('southern_mississippi', 226),\n",
       " ('nevada-reno', 226),\n",
       " ('virginia_military_institute', 226),\n",
       " ('south_carolina_state', 228),\n",
       " ('temple', 229),\n",
       " ('ohio_u.', 231),\n",
       " ('alabama_a&m', 231),\n",
       " ('auburn', 232),\n",
       " ('blinn', 233),\n",
       " ('grand_canyon', 233),\n",
       " ('colorado_state', 233),\n",
       " ('portland', 233),\n",
       " ('depaul', 235),\n",
       " ('saint_rose', 235),\n",
       " ('hawaii', 236),\n",
       " ('missouri', 236),\n",
       " ('southern_illinois', 236),\n",
       " ('virginia_union', 236),\n",
       " ('long_beach_state', 236),\n",
       " ('central_michigan', 236),\n",
       " ('morehouse', 236),\n",
       " ('mt._san_antonio', 236),\n",
       " ('miami_(fla.)', 236),\n",
       " ('wisconsin', 237),\n",
       " ('usc', 237),\n",
       " ('pfeiffer', 237),\n",
       " ('ball_state', 237),\n",
       " ('cornell', 237),\n",
       " ('saint_louis', 237),\n",
       " ('stetson', 237),\n",
       " ('california-santa_barbara', 238),\n",
       " ('long_island-brooklyn', 239),\n",
       " ('george_washington', 240),\n",
       " ('notre_dame', 241),\n",
       " ('midwestern_state', 241),\n",
       " ('tulane', 241),\n",
       " ('harvard', 241),\n",
       " ('westchester_cc_ny', 241),\n",
       " ('liberty', 241),\n",
       " ('utah_state', 242),\n",
       " ('mcneese_state', 242),\n",
       " ('auburn-montgomery', 243),\n",
       " ('belmont', 243),\n",
       " ('davidson', 244),\n",
       " ('robert_morris_(il)', 245),\n",
       " ('northeastern', 246),\n",
       " ('montevallo', 246),\n",
       " ('texas_tech', 247),\n",
       " ('texas-san_antonio', 247),\n",
       " ('louisiana-lafayette', 247),\n",
       " ('delta_state', 247),\n",
       " ('northwestern_state', 247),\n",
       " ('california-irvine', 248),\n",
       " ('old_dominion', 249),\n",
       " ('kansas_state', 249),\n",
       " ('portland_state', 249),\n",
       " ('miami_(oh)', 249),\n",
       " ('arkansas', 250),\n",
       " ('fresno_state', 250),\n",
       " ('william_paterson', 250),\n",
       " ('oklahoma_state', 251),\n",
       " ('weber_state', 251),\n",
       " ('colorado', 252),\n",
       " ('eastern_michigan', 252),\n",
       " ('southern_methodist', 252),\n",
       " ('iona', 252),\n",
       " ('jackson_state', 254),\n",
       " ('george_mason', 256),\n",
       " ('washington_state', 258),\n",
       " (\"saint_joseph's\", 258),\n",
       " ('arkansas-little_rock', 259),\n",
       " ('hampton', 259),\n",
       " ('georgia_tech', 260),\n",
       " ('south_florida', 260),\n",
       " ('centenary_(la)', 260),\n",
       " ('georgetown', 261),\n",
       " ('louisiana_state', 261),\n",
       " ('southern_california', 261),\n",
       " ('santa_clara', 261),\n",
       " ('cleveland_state', 262),\n",
       " ('pacific', 262),\n",
       " ('west_virginia', 262),\n",
       " (\"saint_mary's_(ca)\", 262),\n",
       " ('brigham_young-hawaii', 262),\n",
       " ('tulsa', 263),\n",
       " ('la_salle', 263),\n",
       " ('texas-el_paso', 264),\n",
       " (\"st._john's_(ny)\", 265),\n",
       " ('seton_hall', 268),\n",
       " ('oakland', 268),\n",
       " ('texas_a&m', 271),\n",
       " ('memphis', 271),\n",
       " ('lebanon_valley', 271),\n",
       " ('missouri_state', 271),\n",
       " ('brigham_young', 271),\n",
       " ('lehigh', 271),\n",
       " ('saint_vincent', 271),\n",
       " ('fairfield', 271),\n",
       " ('augsburg', 271),\n",
       " ('siena', 271),\n",
       " ('delaware_state', 271),\n",
       " ('nebraska', 271),\n",
       " ('northwestern', 271),\n",
       " ('shaw', 271),\n",
       " ('augusta_state', 271),\n",
       " ('indiana_purdue-indianapolis', 271),\n",
       " ('nicholls_state', 271),\n",
       " ('yonsei_(kor)', 271),\n",
       " ('cal_state-san_bernardino', 271),\n",
       " ('meridian_community_college', 271),\n",
       " ('south_carolina', 271),\n",
       " ('rider', 271),\n",
       " ('kent_state', 271),\n",
       " ('california-berkeley', 271),\n",
       " ('norfolk_state', 271),\n",
       " ('georgia_southern', 271),\n",
       " (\"master's\", 271),\n",
       " ('midland', 271),\n",
       " ('thomas_more', 271),\n",
       " ('marist', 271),\n",
       " ('utah_valley', 271),\n",
       " ('mercer', 271),\n",
       " ('central_arkansas', 271),\n",
       " ('trinity_valley_community_college', 271),\n",
       " ('butler_community_college', 271),\n",
       " ('princeton', 271),\n",
       " ('missouri-kansas_city', 271),\n",
       " ('hartford', 271),\n",
       " ('wright_state', 271),\n",
       " ('yale', 272),\n",
       " ('american_international', 272),\n",
       " ('florida', 274),\n",
       " ('creighton', 274),\n",
       " ('butler', 274),\n",
       " ('bowling_green', 275),\n",
       " ('villanova', 276),\n",
       " ('longwood', 276),\n",
       " ('central_state_(oh)', 276),\n",
       " ('wisconsin-stevens_point', 276),\n",
       " ('ohio_state', 277),\n",
       " ('louisiana_tech', 277),\n",
       " ('tennessee_state', 278),\n",
       " ('colgate', 279),\n",
       " ('east_carolina', 279),\n",
       " ('virginia', 279),\n",
       " ('navy', 279),\n",
       " ('pennsylvania', 279),\n",
       " ('san_diego_state', 279),\n",
       " ('le_moyne', 279),\n",
       " ('unlv', 279),\n",
       " ('eastern_washington', 279),\n",
       " ('san_jose_state', 279),\n",
       " ('iowa', 281),\n",
       " ('cal_state-fullerton', 281),\n",
       " ('hofstra', 282),\n",
       " ('southeastern_oklahoma_state', 282),\n",
       " ('northern_illinois', 282),\n",
       " ('massachusetts', 282),\n",
       " ('eastern_illinois', 282),\n",
       " ('montana', 282),\n",
       " ('drexel', 282),\n",
       " ('south_dakota_state', 282),\n",
       " ('northeast_mississippi_community_college', 282),\n",
       " ('pittsburgh', 283),\n",
       " ('barton_community_college', 283),\n",
       " ('minnesota', 283),\n",
       " ('western_kentucky', 283),\n",
       " ('north_carolina-charlotte', 283),\n",
       " ('detroit_mercy', 283),\n",
       " ('southeastern_illinois', 283),\n",
       " ('marshall', 283),\n",
       " ('texas_state', 283),\n",
       " ('florida_a&m', 283),\n",
       " ('bucknell', 283),\n",
       " ('xavier', 284),\n",
       " ('austin_peay', 284),\n",
       " ('georgia', 284),\n",
       " ('walsh', 284),\n",
       " ('utah', 285),\n",
       " ('ohio', 285),\n",
       " ('northwest_florida_state', 285),\n",
       " ('georgia_state', 285),\n",
       " ('northern_arizona', 286),\n",
       " ('wake_forest', 289),\n",
       " ('bradley', 289),\n",
       " ('toledo', 289),\n",
       " ('rutgers', 289),\n",
       " ('marquette', 290),\n",
       " ('valparaiso', 290),\n",
       " ('rhode_island', 290),\n",
       " ('indian_hills_community_college', 290),\n",
       " ('north_carolina-wilmington', 290),\n",
       " ('louisiana-monroe', 290),\n",
       " ('north_texas', 290),\n",
       " ('oregon_state', 291),\n",
       " ('richmond', 291),\n",
       " ('college_of_charleston', 292),\n",
       " ('central_connecticut_state', 292),\n",
       " ('tennessee-chattanooga', 292),\n",
       " ('cal_state-bakersfield', 292),\n",
       " ('nevada', 295),\n",
       " ('albany_state_(ga)', 295),\n",
       " ('duquesne', 295),\n",
       " ('wisconsin-green_bay', 295),\n",
       " ('north_dakota', 295),\n",
       " ('tennessee_tech', 295),\n",
       " ('tennessee-martin', 295),\n",
       " ('texas_christian', 297),\n",
       " ('ucla', 298),\n",
       " ('idaho', 298),\n",
       " ('tennessee', 299),\n",
       " ('mississippi_state', 299),\n",
       " ('seward_county_community_college', 299),\n",
       " ('west_virginia_tech', 299),\n",
       " ('jacksonville_state', 299),\n",
       " ('iowa_state', 301),\n",
       " ('california', 303),\n",
       " ('rice', 303),\n",
       " ('clemson', 303),\n",
       " ('oral_roberts', 303),\n",
       " ('manhattan', 303),\n",
       " ('mississippi', 304),\n",
       " ('north_carolina_state', 304),\n",
       " ('cincinnati', 304),\n",
       " ('northwestern_oklahoma', 304),\n",
       " ('miami_(fl)', 305),\n",
       " ('new_orleans', 305),\n",
       " ('west_florida', 305),\n",
       " ('connecticut', 306),\n",
       " ('kentucky', 306),\n",
       " ('washington', 306),\n",
       " ('illinois', 306),\n",
       " ('morehead_state', 307),\n",
       " ('kansas', 308),\n",
       " ('michigan_state', 308),\n",
       " ('arizona_state', 308),\n",
       " ('michigan', 308),\n",
       " ('central_florida', 308),\n",
       " ('western_carolina', 309),\n",
       " ('indiana', 312),\n",
       " ('new_mexico', 312),\n",
       " ('duke', 312),\n",
       " ('oregon', 314),\n",
       " ('florida_state', 314),\n",
       " ('murray_state', 314),\n",
       " ('north_carolina', 315),\n",
       " ('arizona', 318),\n",
       " ('vanderbilt', 318),\n",
       " ('purdue', 319),\n",
       " ('stanford', 319),\n",
       " ('maryland', 319),\n",
       " ('syracuse', 319),\n",
       " ('providence', 319),\n",
       " ('texas', 319),\n",
       " ('boston_college', 319),\n",
       " ('oklahoma', 320),\n",
       " ('louisville', 322),\n",
       " ('baylor', 323)]"
      ]
     },
     "execution_count": 185,
     "metadata": {},
     "output_type": "execute_result"
    }
   ],
   "source": []
  },
  {
   "cell_type": "code",
   "execution_count": null,
   "metadata": {},
   "outputs": [],
   "source": []
  },
  {
   "cell_type": "code",
   "execution_count": null,
   "metadata": {},
   "outputs": [],
   "source": []
  },
  {
   "cell_type": "code",
   "execution_count": null,
   "metadata": {},
   "outputs": [],
   "source": []
  },
  {
   "cell_type": "code",
   "execution_count": null,
   "metadata": {},
   "outputs": [],
   "source": []
  },
  {
   "cell_type": "code",
   "execution_count": null,
   "metadata": {},
   "outputs": [],
   "source": []
  },
  {
   "cell_type": "code",
   "execution_count": null,
   "metadata": {},
   "outputs": [],
   "source": []
  },
  {
   "cell_type": "code",
   "execution_count": null,
   "metadata": {},
   "outputs": [],
   "source": []
  }
 ],
 "metadata": {
  "kernelspec": {
   "display_name": "Python 3",
   "language": "python",
   "name": "python3"
  },
  "language_info": {
   "codemirror_mode": {
    "name": "ipython",
    "version": 3
   },
   "file_extension": ".py",
   "mimetype": "text/x-python",
   "name": "python",
   "nbconvert_exporter": "python",
   "pygments_lexer": "ipython3",
   "version": "3.7.4"
  }
 },
 "nbformat": 4,
 "nbformat_minor": 1
}

{
 "cells": [
  {
   "cell_type": "code",
   "execution_count": null,
   "metadata": {
    "_cell_guid": "bb2f9b4d-1d9f-48f7-8ac6-b276417bafb8",
    "_uuid": "0f3ce604-d075-47cd-af22-81e9fc33ed13"
   },
   "outputs": [],
   "source": [
    "# This Python 3 environment comes with many helpful analytics libraries installed\n",
    "# It is defined by the kaggle/python docker image: https://github.com/kaggle/docker-python\n",
    "# For example, here's several helpful packages to load in \n",
    "\n",
    "import numpy as np # linear algebra\n",
    "import pandas as pd # data processing, CSV file I/O (e.g. pd.read_csv)\n",
    "import matplotlib.pyplot as plt\n",
    "from sklearn import linear_model\n",
    "from sklearn.model_selection import train_test_split\n",
    "\n",
    "\n",
    "# Input data files are available in the \"../input/\" directory.\n",
    "# For example, running this (by clicking run or pressing Shift+Enter) will list all files under the input directory\n",
    "\n",
    "import os\n",
    "for dirname, _, filenames in os.walk('/kaggle/input'):\n",
    "    for filename in filenames:\n",
    "        print(os.path.join(dirname, filename))\n",
    "\n",
    "# Any results you write to the current directory are saved as output."
   ]
  },
  {
   "cell_type": "code",
   "execution_count": null,
   "metadata": {
    "_cell_guid": "d9c34f17-d28a-41ba-91d6-f99f39ec2042",
    "_uuid": "271bd476-e62a-4f94-a081-67e74866ec04"
   },
   "outputs": [],
   "source": [
    "df = pd.read_csv(\"../input/nba-players-data/all_seasons.csv\")"
   ]
  },
  {
   "cell_type": "code",
   "execution_count": null,
   "metadata": {
    "_cell_guid": "17af8b9d-6b9d-425c-a0b5-0e913604a2c2",
    "_uuid": "905f11f3-737a-45f1-b5d4-a324a1c8f591"
   },
   "outputs": [],
   "source": [
    "# normalizando a temporada\n",
    "new = df['season'].str.split('-', n=1, expand=True)\n",
    "df['season'] = pd.to_numeric(new[0])"
   ]
  },
  {
   "cell_type": "code",
   "execution_count": null,
   "metadata": {
    "_cell_guid": "f0ea06f8-135e-4d3d-a7a7-9814a8decebe",
    "_uuid": "707682fb-7fd9-4b24-8cfa-72fa201a3e42"
   },
   "outputs": [],
   "source": [
    "print(df.shape)\n",
    "df[df['player_name'] == 'A.J. Guyton']"
   ]
  },
  {
   "cell_type": "code",
   "execution_count": null,
   "metadata": {
    "_cell_guid": "f0494586-669d-41d8-96c4-4dd679e0970c",
    "_uuid": "31fad4fc-2ff5-4d3b-8e10-da8a5bca0e09"
   },
   "outputs": [],
   "source": [
    "# removendo dados com nomes iguais, deixando apenas os com as menores seasons / ages\n",
    "df = df.loc[df.groupby(\"player_name\")[\"age\"].idxmin()]\n",
    "\n",
    "print(df.shape)\n",
    "df[df['player_name'] == 'A.J. Guyton']"
   ]
  },
  {
   "cell_type": "code",
   "execution_count": null,
   "metadata": {
    "_cell_guid": "e71286c7-68b6-413a-9b4d-a9d83b84ddbd",
    "_uuid": "f813fe1f-50cc-4c3f-8cbe-d71bbd260fd3"
   },
   "outputs": [],
   "source": [
    "# incluindo colunas para cada universidade onde para um jogador X a coluna correspondente\n",
    "# a universidade Y tem o valor 1 se X percence a Y e 0 caso contrário\n",
    "\n",
    "colleges = df['college'].unique()\n",
    "for college in colleges:\n",
    "    college_column_name = college.lower().replace(\" \", \"_\")\n",
    "    df[college_column_name] = df['college'].apply(lambda c: 1 if c==college else 0)\n",
    "\n",
    "\n",
    "# testing\n",
    "\n",
    "# each player should be in only one college\n",
    "assert df[df['player_name'] == 'A.J. Guyton']['indiana'].values[0] == 1\n",
    "\n",
    "# the sum of all college columns for each player should be 1\n",
    "s = 0\n",
    "for college in colleges:\n",
    "    college_column_name = college.lower().replace(\" \", \"_\")\n",
    "    s+=df[df['player_name'] == 'A.J. Guyton'][college_column_name]\n",
    "\n",
    "assert s.values[0] == 1"
   ]
  },
  {
   "cell_type": "markdown",
   "metadata": {
    "_cell_guid": "b4f4d476-c539-4aed-889c-a026998484ce",
    "_uuid": "9fdb5649-8c1c-48b6-b62d-35bf7848eb79"
   },
   "source": [
    "Abaixo, observamos se há um comportamento tendenciosos entre as universidades e os jogaores draftados"
   ]
  },
  {
   "cell_type": "code",
   "execution_count": null,
   "metadata": {
    "_cell_guid": "bf2e51b1-bee1-466a-b322-3b0e94cd4d6f",
    "_uuid": "e9c4af38-8c00-428c-aa41-ff8d37e7c311"
   },
   "outputs": [],
   "source": [
    "df['drafted'] = df['draft_year'].apply(lambda c: 1 if c!='Undrafted' else 0)\n",
    "\n",
    "# df.groupby('college')['drafted'].sum().plot.bar()\n",
    "\n",
    "plt.boxplot(df.groupby('college')['drafted'].sum())\n",
    "df = df[df['college'] != 'None']\n",
    "# df.groupby('college')['drafted'].sum()['None']\n",
    "plt.boxplot(df.groupby('college')['drafted'].sum())\n",
    "plt.show()\n",
    "\n",
    "# plota o grafico com a quantidade de jogadores draftados por universidade\n",
    "# df.groupby('college')['drafted'].sum().sort_values()[-40:-1].plot.bar()\n",
    "# plt.show()\n",
    "\n",
    "print(df.groupby('college')['drafted'].sum().sort_values()[::-1])"
   ]
  },
  {
   "cell_type": "markdown",
   "metadata": {},
   "source": [
    "## Teste de permutação"
   ]
  },
  {
   "cell_type": "markdown",
   "metadata": {
    "_cell_guid": "e53bde6c-5540-41ba-8741-df7ec2cf3822",
    "_uuid": "c448ffc8-ad8b-4ee2-8562-1d518c1e34e8"
   },
   "source": [
    "Pelo que parece há uma tendencia entre as universidades e a quantidade de jogadores draftados visto que há uma grande quantidade de outliers segundo o boxplot, observando que dentro de um consjunto de 286 universidades, cerca de pouco mais de 30 universidades já enviaram mais de 15 jogaores no total para a NBA"
   ]
  },
  {
   "cell_type": "markdown",
   "metadata": {},
   "source": [
    "Argumenta-se que um bom jogador participa de um grande número de lances no jogo. Ou seja, o percentual de participação do jogador na partida (usg_pct) é alto. Surge, então, a pergunta, partindo de um conjunto de variáveis sobre um jogador, é possível prever a porcentagem de participação de tal jogador nas partidas?"
   ]
  },
  {
   "cell_type": "markdown",
   "metadata": {},
   "source": [
    "Primeiro verificamos se existe uma relação entre um jogador ser draftado e ser participativo nas partidas de basquete. Isso é feito com um teste de permutação onde é permutado o parametro \"drafted\" que indica se tal jogador foi draftado (1) ou não (0). Então plotamos, em um histograma, a diferença entre as médias do parâmetro \"usg_pct\" para jogadores draftados e não draftados. Dessa forma, é possível observar o comportamento para a média encontrada no dataset e concluir, com um intervalo de confiança, se tal comportamente é aleatório ou não."
   ]
  },
  {
   "cell_type": "code",
   "execution_count": null,
   "metadata": {
    "_cell_guid": "42faeeb9-28f2-41b5-8007-44fd40dede33",
    "_uuid": "03a70deb-4a6f-4533-be88-4a0624e10741"
   },
   "outputs": [],
   "source": [
    "teste = df.copy()\n",
    "\n",
    "t_obs = teste[teste['drafted'] == 1]['usg_pct'].mean() - teste[teste['drafted'] != 1]['usg_pct'].mean()\n",
    "t_obs"
   ]
  },
  {
   "cell_type": "code",
   "execution_count": null,
   "metadata": {
    "_cell_guid": "bef0a821-cf6c-4daf-8d70-aeb0afee77c4",
    "_uuid": "5d6e3cad-0ee5-43a5-86ad-1602bf8bced3"
   },
   "outputs": [],
   "source": [
    "N = 10000\n",
    "diferencas = np.zeros(N)\n",
    "\n",
    "for i in range(N):\n",
    "    np.random.shuffle(teste['drafted'].values)\n",
    "    diff = teste[teste['drafted'] == 1]['usg_pct'].mean() - teste[teste['drafted'] != 1]['usg_pct'].mean()\n",
    "    diferencas[i] = diff"
   ]
  },
  {
   "cell_type": "code",
   "execution_count": null,
   "metadata": {
    "_cell_guid": "85be7401-8b12-4f1f-ad30-83b283968cbe",
    "_uuid": "5657ab91-a3aa-44b8-9109-cff3ffff4642"
   },
   "outputs": [],
   "source": [
    "plt.figure(num=None, figsize=(8, 6), dpi=80, facecolor='w', edgecolor='k')\n",
    "\n",
    "plt.hist(diferencas, bins=50, density=True, edgecolor='k')\n",
    "plt.xlabel('Diferença na Permutação')\n",
    "plt.ylabel('Pr(diff)')\n",
    "plt.axvline(t_obs, color='red', linestyle='solid')\n",
    "plt.show()"
   ]
  },
  {
   "cell_type": "code",
   "execution_count": null,
   "metadata": {},
   "outputs": [],
   "source": [
    "print(\"Intervalo de confiança: [{}, {}]\".format(np.percentile(diferencas, 2.5), np.percentile(diferencas, 97.5)))"
   ]
  },
  {
   "cell_type": "markdown",
   "metadata": {},
   "source": [
    "Observamos que em um mundo aleatório, 95% dos nossos dados ficaria dentro do intervalo acima. No entando, visto que a média observada pelos dados reais, representada pela linha vermelha a direita do gráfico, é maior do que o limite superior do intervalo, podemos afirmar, com 95% de certeza, que o valor observado não apresenta um comportamento aleatório. O que nos motiva ao próximo passo, efetuar uma regressão e traçar um modelo de previsão do parâmetro 'usg_pct'."
   ]
  },
  {
   "cell_type": "markdown",
   "metadata": {},
   "source": [
    "## Regressão Linear"
   ]
  },
  {
   "cell_type": "markdown",
   "metadata": {},
   "source": [
    "Queremos fazer uma regressão linear nos dados baseando-se em 10 atributos de jogadores para tentar prever a participação percentual de um dado jogador em um dado jogo. Assim, conseguimos definir se tal jogador tem um alta probabilidade de ser draftado, pois, como demonstrado, o atributo \"usg_pct\" é um forte influenciador na classificação de um jogador como \"drafted\" ou não."
   ]
  },
  {
   "cell_type": "markdown",
   "metadata": {},
   "source": [
    "### Análise dos atributos obtidos\n",
    "\n",
    "Primeiro gostariamos de fazer uma breve análise de relação de cada um dos atributos com o \"usg_pct\", indicando, assim, se tal atributo possui ou não uma correlação com o atributo o qual estamos tentando prever."
   ]
  },
  {
   "cell_type": "code",
   "execution_count": null,
   "metadata": {},
   "outputs": [],
   "source": [
    "attrs = ['age', 'player_height', 'player_weight', 'gp', 'pts', 'reb', 'ast', 'net_rating', 'oreb_pct', 'ts_pct']\n",
    "y = df['usg_pct']\n",
    "X = df[attrs]\n",
    "\n",
    "for attr in attrs:\n",
    "    plt.scatter(X[attr], y, edgecolor='k', alpha=0.6)\n",
    "    plt.xlabel(attr)\n",
    "    plt.ylabel('usg_pct')\n",
    "    plt.show()"
   ]
  },
  {
   "cell_type": "markdown",
   "metadata": {},
   "source": [
    "### Separação: Teste/Treino"
   ]
  },
  {
   "cell_type": "code",
   "execution_count": null,
   "metadata": {
    "_cell_guid": "e3babefa-2e5c-4015-b690-71b3318fe3f3",
    "_uuid": "5a436eb9-9c5f-4826-9441-06a03c49cd9d"
   },
   "outputs": [],
   "source": [
    "X_train, X_test, y_train, y_test = train_test_split(X, y, test_size=0.2)\n",
    "\n",
    "print (X_train.shape, y_train.shape)\n",
    "print (X_test.shape, y_test.shape)"
   ]
  },
  {
   "cell_type": "markdown",
   "metadata": {},
   "source": [
    "### Regressão"
   ]
  },
  {
   "cell_type": "code",
   "execution_count": null,
   "metadata": {
    "_cell_guid": "69e570c2-f42e-465a-98e8-795fa30413b6",
    "_uuid": "fb0b22fc-c7bc-4daf-b7df-7ba3ad6f8174"
   },
   "outputs": [],
   "source": [
    "def score(alpha, X_train, Y_train, X_test, Y_test):\n",
    "    model =  linear_model.Ridge(alpha=alpha)\n",
    "    model.fit(X_train, Y_train)\n",
    "    return model.score(X_test, Y_test)\n",
    "\n",
    "def find_best_alpha(X_train, Y_train, X_test, Y_test):\n",
    "    alphas =[0.01*(10**i) for i in range(5)]\n",
    "    return max([(alpha, score(alpha, X_train, Y_train, X_test, Y_test)) for alpha in alphas], key=lambda e:e[1])\n",
    "\n",
    "alpha, score = find_best_alpha(X_train, y_train, X_test, y_test)\n",
    "\n",
    "lm = linear_model.Ridge(alpha=alpha)\n",
    "\n",
    "model = lm.fit(X_train,y_train)\n",
    "predictions = lm.predict(X_test)\n",
    "\n",
    "plt.scatter(y_test, predictions, edgecolor='k', alpha=0.6)\n",
    "plt.xlabel(\"True Values\")\n",
    "plt.ylabel(\"Predictions\")"
   ]
  },
  {
   "cell_type": "markdown",
   "metadata": {},
   "source": [
    "### Resultados"
   ]
  },
  {
   "cell_type": "code",
   "execution_count": null,
   "metadata": {
    "_cell_guid": "15ffd389-9be1-4bfe-a8ae-b630cb44c79c",
    "_uuid": "241bac19-8144-42f5-81db-99683330cd96"
   },
   "outputs": [],
   "source": [
    "print(\"Coeficientes:\", model.coef_)\n",
    "print(\"Intercept:\", model.intercept_)\n",
    "print(\"Score (R2):\", model.score(X_test, y_test))"
   ]
  },
  {
   "cell_type": "markdown",
   "metadata": {},
   "source": [
    "Observamos, portanto, que conseguimos sim prever o valor de \"usg_pct\" baseando-se em diferentes atributos dos jogadores. Isto é feito utlizando uma regressão linear com regularização de Ridge, onde o parametro \"alpha\" foi escolhido de tal forma a maximizar o Score, ou R2, achando assim, um modelo que melhor se ajusta aos dados sem comprometer a variância."
   ]
  }
 ],
 "metadata": {
  "kernelspec": {
   "display_name": "Python 3",
   "language": "python",
   "name": "python3"
  },
  "language_info": {
   "codemirror_mode": {
    "name": "ipython",
    "version": 3
   },
   "file_extension": ".py",
   "mimetype": "text/x-python",
   "name": "python",
   "nbconvert_exporter": "python",
   "pygments_lexer": "ipython3",
   "version": "3.7.4"
  }
 },
 "nbformat": 4,
 "nbformat_minor": 1
}
